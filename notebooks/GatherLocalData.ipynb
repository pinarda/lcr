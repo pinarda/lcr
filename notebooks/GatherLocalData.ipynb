{
 "cells": [
  {
   "cell_type": "code",
   "execution_count": 4,
   "id": "857fb629",
   "metadata": {},
   "outputs": [],
   "source": [
    "# start with the dailies"
   ]
  },
  {
   "cell_type": "code",
   "execution_count": null,
   "id": "2fc9fbf9",
   "metadata": {},
   "outputs": [],
   "source": [
    "dailies = [\"bc_a1_SRF\", \"dst_a1_SRF\", \"dst_a3_SRF\", \"FLNS\",\n",
    "           \"FLNSC\", \"FLUT\", \"FSNS\", \"FSNSC\", \"FSNTOA\",\n",
    "           \"ICEFRAC\", \"LHFLX\", \"pom_a1_SRF\", \"PRECL\",\n",
    "           \"PRECSC\", \"PRECSL\", \"PRECT\", \"PRECTMX\", \"PSL\",\n",
    "           \"Q200\", \"Q500\", \"Q850\", \"QBOT\", \"SHFLX\",\n",
    "           \"so4_a1_SRF\", \"so4_a2_SRF\", \"so4_a3_SRF\",\n",
    "           \"soa_a1_SRF\", \"soa_a2_SRF\", \"T010\", \"T200\",\n",
    "           \"T500\", \"T850\", \"TAUX\", \"TAUY\", \"TMQ\", \"TREFHT\",\n",
    "           \"TREFHTMN\", \"TREFHTMX\", \"TS\", \"U010\", \"U200\",\n",
    "           \"U500\", \"U850\", \"VBOT\", \"WSPDSRFAV\", \"Z050\", \"Z500\"]\n",
    "\n"
   ]
  },
  {
   "cell_type": "code",
   "execution_count": null,
   "id": "bc9a46d2",
   "metadata": {},
   "outputs": [],
   "source": [
    "# first compute calcs - then after do the optimal comp params\n"
   ]
  }
 ],
 "metadata": {
  "kernelspec": {
   "display_name": "Python 3 (ipykernel)",
   "language": "python",
   "name": "python3"
  },
  "language_info": {
   "codemirror_mode": {
    "name": "ipython",
    "version": 3
   },
   "file_extension": ".py",
   "mimetype": "text/x-python",
   "name": "python",
   "nbconvert_exporter": "python",
   "pygments_lexer": "ipython3",
   "version": "3.8.0"
  }
 },
 "nbformat": 4,
 "nbformat_minor": 5
}
