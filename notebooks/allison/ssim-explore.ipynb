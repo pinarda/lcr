{
 "cells": [
  {
   "cell_type": "code",
   "execution_count": 30,
   "id": "honey-dublin",
   "metadata": {},
   "outputs": [
    {
     "name": "stdout",
     "output_type": "stream",
     "text": [
      "The autoreload extension is already loaded. To reload it, use:\n",
      "  %reload_ext autoreload\n"
     ]
    }
   ],
   "source": [
    "# Add ldcpy root to system path\n",
    "import sys\n",
    "\n",
    "sys.path.insert(0, '../../../')\n",
    "\n",
    "# Import ldcpy package\n",
    "# Autoreloads package everytime the package is called, so changes to code will be reflected in the notebook if the above sys.path.insert(...) line is uncommented.\n",
    "%load_ext autoreload\n",
    "%autoreload 2\n",
    "import ldcpy\n",
    "\n",
    "# display the plots in this notebook\n",
    "%matplotlib inline"
   ]
  },
  {
   "cell_type": "code",
   "execution_count": 34,
   "id": "greater-lighter",
   "metadata": {},
   "outputs": [
    {
     "name": "stdout",
     "output_type": "stream",
     "text": [
      "dataset size in GB 0.40\n",
      "\n"
     ]
    }
   ],
   "source": [
    "absorb_col = ldcpy.open_datasets(\"cam-fv\",\n",
    "    [\"ABSORB\"],\n",
    "    [\n",
    "        \"/Users/abaker/alli/code-repo/test-data/new_absorb/orig.absorb.nc\",\n",
    "        \"/Users/abaker/alli/code-repo/test-data/new_absorb/p12.ex.nc\",\n",
    "                \"/Users/abaker/alli/code-repo/test-data/new_absorb/p12.fill.nc\",\n",
    "        \"/Users/abaker/alli/code-repo/test-data/new_absorb/p12.fix.nc\",\n",
    "                \"/Users/abaker/alli/code-repo/test-data/new_absorb/p12.lon.nc\",      \n",
    "        \"/Users/abaker/alli/code-repo/test-data/copy_absorb/zfp_p12.absorb.nc\",\n",
    "\n",
    "\n",
    "    ],\n",
    "    [\"orig\", \"comp-ex\", \"comp-fill\", \"comp-fix\", \"comp-lon\", \"zfp-12\"],\n",
    "    chunks={\"time\": 1},\n",
    ")"
   ]
  },
  {
   "cell_type": "code",
   "execution_count": 35,
   "id": "hungarian-accounting",
   "metadata": {},
   "outputs": [
    {
     "data": {
      "text/html": [
       " <span style=\"color:green\">Comparison: </span>  "
      ],
      "text/plain": [
       "<IPython.core.display.HTML object>"
      ]
     },
     "metadata": {},
     "output_type": "display_data"
    },
    {
     "data": {
      "text/html": [
       "<div>\n",
       "<style scoped>\n",
       "    .dataframe tbody tr th:only-of-type {\n",
       "        vertical-align: middle;\n",
       "    }\n",
       "\n",
       "    .dataframe tbody tr th {\n",
       "        vertical-align: top;\n",
       "    }\n",
       "\n",
       "    .dataframe thead th {\n",
       "        text-align: right;\n",
       "    }\n",
       "</style>\n",
       "<table border=\"1\" class=\"dataframe\">\n",
       "  <thead>\n",
       "    <tr style=\"text-align: right;\">\n",
       "      <th></th>\n",
       "      <th>orig</th>\n",
       "      <th>comp-ex</th>\n",
       "      <th>comp-fill</th>\n",
       "      <th>comp-fix</th>\n",
       "      <th>comp-lon</th>\n",
       "      <th>zfp-12</th>\n",
       "    </tr>\n",
       "  </thead>\n",
       "  <tbody>\n",
       "    <tr>\n",
       "      <th>mean</th>\n",
       "      <td>5.608782e-07</td>\n",
       "      <td>5.608758e-07</td>\n",
       "      <td>5.608758e-07</td>\n",
       "      <td>5.608758e-07</td>\n",
       "      <td>5.608758e-07</td>\n",
       "      <td>5.608758e-07</td>\n",
       "    </tr>\n",
       "    <tr>\n",
       "      <th>variance</th>\n",
       "      <td>8.211551e-12</td>\n",
       "      <td>8.211512e-12</td>\n",
       "      <td>8.211512e-12</td>\n",
       "      <td>8.211512e-12</td>\n",
       "      <td>8.211512e-12</td>\n",
       "      <td>8.211512e-12</td>\n",
       "    </tr>\n",
       "    <tr>\n",
       "      <th>standard deviation</th>\n",
       "      <td>2.86558e-06</td>\n",
       "      <td>2.865574e-06</td>\n",
       "      <td>2.865574e-06</td>\n",
       "      <td>2.865574e-06</td>\n",
       "      <td>2.865574e-06</td>\n",
       "      <td>2.865574e-06</td>\n",
       "    </tr>\n",
       "    <tr>\n",
       "      <th>min value</th>\n",
       "      <td>2.012724e-13</td>\n",
       "      <td>2.015055e-13</td>\n",
       "      <td>2.015055e-13</td>\n",
       "      <td>2.015055e-13</td>\n",
       "      <td>2.015055e-13</td>\n",
       "      <td>2.015055e-13</td>\n",
       "    </tr>\n",
       "    <tr>\n",
       "      <th>max value</th>\n",
       "      <td>0.0003357234</td>\n",
       "      <td>0.000336051</td>\n",
       "      <td>0.000336051</td>\n",
       "      <td>0.000336051</td>\n",
       "      <td>0.000336051</td>\n",
       "      <td>0.000336051</td>\n",
       "    </tr>\n",
       "    <tr>\n",
       "      <th>probability positive</th>\n",
       "      <td>1</td>\n",
       "      <td>1</td>\n",
       "      <td>1</td>\n",
       "      <td>1</td>\n",
       "      <td>1</td>\n",
       "      <td>1</td>\n",
       "    </tr>\n",
       "    <tr>\n",
       "      <th>number of zeros</th>\n",
       "      <td>0</td>\n",
       "      <td>0</td>\n",
       "      <td>0</td>\n",
       "      <td>0</td>\n",
       "      <td>0</td>\n",
       "      <td>0</td>\n",
       "    </tr>\n",
       "  </tbody>\n",
       "</table>\n",
       "</div>"
      ],
      "text/plain": [
       "                              orig       comp-ex     comp-fill      comp-fix  \\\n",
       "mean                  5.608782e-07  5.608758e-07  5.608758e-07  5.608758e-07   \n",
       "variance              8.211551e-12  8.211512e-12  8.211512e-12  8.211512e-12   \n",
       "standard deviation     2.86558e-06  2.865574e-06  2.865574e-06  2.865574e-06   \n",
       "min value             2.012724e-13  2.015055e-13  2.015055e-13  2.015055e-13   \n",
       "max value             0.0003357234   0.000336051   0.000336051   0.000336051   \n",
       "probability positive             1             1             1             1   \n",
       "number of zeros                  0             0             0             0   \n",
       "\n",
       "                          comp-lon        zfp-12  \n",
       "mean                  5.608758e-07  5.608758e-07  \n",
       "variance              8.211512e-12  8.211512e-12  \n",
       "standard deviation    2.865574e-06  2.865574e-06  \n",
       "min value             2.015055e-13  2.015055e-13  \n",
       "max value              0.000336051   0.000336051  \n",
       "probability positive             1             1  \n",
       "number of zeros                  0             0  "
      ]
     },
     "metadata": {},
     "output_type": "display_data"
    },
    {
     "data": {
      "text/html": [
       "<br>"
      ],
      "text/plain": [
       "<IPython.core.display.HTML object>"
      ]
     },
     "metadata": {},
     "output_type": "display_data"
    },
    {
     "data": {
      "text/html": [
       "<span style=\"color:green\">Difference calcs: </span>  "
      ],
      "text/plain": [
       "<IPython.core.display.HTML object>"
      ]
     },
     "metadata": {},
     "output_type": "display_data"
    },
    {
     "data": {
      "text/html": [
       "<div>\n",
       "<style scoped>\n",
       "    .dataframe tbody tr th:only-of-type {\n",
       "        vertical-align: middle;\n",
       "    }\n",
       "\n",
       "    .dataframe tbody tr th {\n",
       "        vertical-align: top;\n",
       "    }\n",
       "\n",
       "    .dataframe thead th {\n",
       "        text-align: right;\n",
       "    }\n",
       "</style>\n",
       "<table border=\"1\" class=\"dataframe\">\n",
       "  <thead>\n",
       "    <tr style=\"text-align: right;\">\n",
       "      <th></th>\n",
       "      <th>comp-ex</th>\n",
       "      <th>comp-fill</th>\n",
       "      <th>comp-fix</th>\n",
       "      <th>comp-lon</th>\n",
       "      <th>zfp-12</th>\n",
       "    </tr>\n",
       "  </thead>\n",
       "  <tbody>\n",
       "    <tr>\n",
       "      <th>max abs diff</th>\n",
       "      <td>6.979826e-07</td>\n",
       "      <td>6.979826e-07</td>\n",
       "      <td>6.979826e-07</td>\n",
       "      <td>6.979826e-07</td>\n",
       "      <td>6.979826e-07</td>\n",
       "    </tr>\n",
       "    <tr>\n",
       "      <th>min abs diff</th>\n",
       "      <td>0</td>\n",
       "      <td>0</td>\n",
       "      <td>0</td>\n",
       "      <td>0</td>\n",
       "      <td>0</td>\n",
       "    </tr>\n",
       "    <tr>\n",
       "      <th>mean abs diff</th>\n",
       "      <td>4.861534e-10</td>\n",
       "      <td>4.861534e-10</td>\n",
       "      <td>4.861534e-10</td>\n",
       "      <td>4.861534e-10</td>\n",
       "      <td>4.861534e-10</td>\n",
       "    </tr>\n",
       "    <tr>\n",
       "      <th>mean squared diff</th>\n",
       "      <td>5.671484e-24</td>\n",
       "      <td>5.671484e-24</td>\n",
       "      <td>5.671484e-24</td>\n",
       "      <td>5.671484e-24</td>\n",
       "      <td>5.671484e-24</td>\n",
       "    </tr>\n",
       "    <tr>\n",
       "      <th>root mean squared diff</th>\n",
       "      <td>3.95382e-09</td>\n",
       "      <td>3.95382e-09</td>\n",
       "      <td>3.95382e-09</td>\n",
       "      <td>3.95382e-09</td>\n",
       "      <td>3.95382e-09</td>\n",
       "    </tr>\n",
       "    <tr>\n",
       "      <th>normalized root mean squared diff</th>\n",
       "      <td>1.012671e-05</td>\n",
       "      <td>1.012671e-05</td>\n",
       "      <td>1.012671e-05</td>\n",
       "      <td>1.012671e-05</td>\n",
       "      <td>1.012671e-05</td>\n",
       "    </tr>\n",
       "    <tr>\n",
       "      <th>normalized max pointwise error</th>\n",
       "      <td>0.001919071</td>\n",
       "      <td>0.001919071</td>\n",
       "      <td>0.001919071</td>\n",
       "      <td>0.001919071</td>\n",
       "      <td>0.001919071</td>\n",
       "    </tr>\n",
       "    <tr>\n",
       "      <th>pearson correlation coefficient</th>\n",
       "      <td>0.9999993</td>\n",
       "      <td>0.9999993</td>\n",
       "      <td>0.9999993</td>\n",
       "      <td>0.9999993</td>\n",
       "      <td>0.9999993</td>\n",
       "    </tr>\n",
       "    <tr>\n",
       "      <th>ks p-value</th>\n",
       "      <td>1</td>\n",
       "      <td>1</td>\n",
       "      <td>1</td>\n",
       "      <td>1</td>\n",
       "      <td>1</td>\n",
       "    </tr>\n",
       "    <tr>\n",
       "      <th>spatial relative error(% &gt; 0.0001)</th>\n",
       "      <td>90.65905</td>\n",
       "      <td>90.65905</td>\n",
       "      <td>90.65905</td>\n",
       "      <td>90.65905</td>\n",
       "      <td>90.65905</td>\n",
       "    </tr>\n",
       "    <tr>\n",
       "      <th>max spatial relative error</th>\n",
       "      <td>0.2003027</td>\n",
       "      <td>0.2003027</td>\n",
       "      <td>0.2003027</td>\n",
       "      <td>0.2003027</td>\n",
       "      <td>0.2003027</td>\n",
       "    </tr>\n",
       "    <tr>\n",
       "      <th>Data SSIM</th>\n",
       "      <td>0.9841288</td>\n",
       "      <td>0.9841288</td>\n",
       "      <td>0.9841288</td>\n",
       "      <td>0.9841288</td>\n",
       "      <td>0.9841288</td>\n",
       "    </tr>\n",
       "    <tr>\n",
       "      <th>Data SSIM - ORIG</th>\n",
       "      <td>nan</td>\n",
       "      <td>nan</td>\n",
       "      <td>nan</td>\n",
       "      <td>nan</td>\n",
       "      <td>nan</td>\n",
       "    </tr>\n",
       "  </tbody>\n",
       "</table>\n",
       "</div>"
      ],
      "text/plain": [
       "                                         comp-ex     comp-fill      comp-fix  \\\n",
       "max abs diff                        6.979826e-07  6.979826e-07  6.979826e-07   \n",
       "min abs diff                                   0             0             0   \n",
       "mean abs diff                       4.861534e-10  4.861534e-10  4.861534e-10   \n",
       "mean squared diff                   5.671484e-24  5.671484e-24  5.671484e-24   \n",
       "root mean squared diff               3.95382e-09   3.95382e-09   3.95382e-09   \n",
       "normalized root mean squared diff   1.012671e-05  1.012671e-05  1.012671e-05   \n",
       "normalized max pointwise error       0.001919071   0.001919071   0.001919071   \n",
       "pearson correlation coefficient        0.9999993     0.9999993     0.9999993   \n",
       "ks p-value                                     1             1             1   \n",
       "spatial relative error(% > 0.0001)      90.65905      90.65905      90.65905   \n",
       "max spatial relative error             0.2003027     0.2003027     0.2003027   \n",
       "Data SSIM                              0.9841288     0.9841288     0.9841288   \n",
       "Data SSIM - ORIG                             nan           nan           nan   \n",
       "\n",
       "                                        comp-lon        zfp-12  \n",
       "max abs diff                        6.979826e-07  6.979826e-07  \n",
       "min abs diff                                   0             0  \n",
       "mean abs diff                       4.861534e-10  4.861534e-10  \n",
       "mean squared diff                   5.671484e-24  5.671484e-24  \n",
       "root mean squared diff               3.95382e-09   3.95382e-09  \n",
       "normalized root mean squared diff   1.012671e-05  1.012671e-05  \n",
       "normalized max pointwise error       0.001919071   0.001919071  \n",
       "pearson correlation coefficient        0.9999993     0.9999993  \n",
       "ks p-value                                     1             1  \n",
       "spatial relative error(% > 0.0001)      90.65905      90.65905  \n",
       "max spatial relative error             0.2003027     0.2003027  \n",
       "Data SSIM                              0.9841288     0.9841288  \n",
       "Data SSIM - ORIG                             nan           nan  "
      ]
     },
     "metadata": {},
     "output_type": "display_data"
    }
   ],
   "source": [
    "ab0 = absorb_col.isel(time=0)\n",
    "ldcpy.compare_stats(ab0, \"ABSORB\", [\"orig\", \"comp-ex\",\"comp-fill\", \"comp-fix\", \"comp-lon\", \"zfp-12\"], significant_digits = 7)"
   ]
  },
  {
   "cell_type": "code",
   "execution_count": 33,
   "id": "polish-respect",
   "metadata": {},
   "outputs": [],
   "source": [
    "ab0_orig = absorb_col[\"ABSORB\"].isel(time=0).sel(collection=\"orig\").compute()\n",
    "ab0_comp = absorb_col[\"ABSORB\"].isel(time=0).sel(collection=\"zfp-12\").compute()"
   ]
  },
  {
   "cell_type": "code",
   "execution_count": 27,
   "id": "protective-archives",
   "metadata": {},
   "outputs": [
    {
     "data": {
      "text/plain": [
       "array([[[2.38171635e-12, 2.38171635e-12, 2.38171635e-12, ...,\n",
       "         2.38171635e-12, 2.38171635e-12, 2.38171635e-12],\n",
       "        [2.38080692e-12, 2.37991744e-12, 2.37986735e-12, ...,\n",
       "         2.38123605e-12, 2.38178336e-12, 2.38059529e-12],\n",
       "        [2.38189026e-12, 2.38038127e-12, 2.37988210e-12, ...,\n",
       "         2.38639859e-12, 2.38360894e-12, 2.38294237e-12],\n",
       "        ...,\n",
       "        [           nan,            nan,            nan, ...,\n",
       "                    nan,            nan,            nan],\n",
       "        [           nan,            nan,            nan, ...,\n",
       "                    nan,            nan,            nan],\n",
       "        [           nan,            nan,            nan, ...,\n",
       "                    nan,            nan,            nan]],\n",
       "\n",
       "       [[1.14635055e-11, 1.14635055e-11, 1.14635055e-11, ...,\n",
       "         1.14635055e-11, 1.14635055e-11, 1.14635055e-11],\n",
       "        [1.11156319e-11, 1.11108666e-11, 1.11057621e-11, ...,\n",
       "         1.11272059e-11, 1.11233800e-11, 1.11197206e-11],\n",
       "        [1.08142549e-11, 1.07987612e-11, 1.07835104e-11, ...,\n",
       "         1.08570522e-11, 1.08427330e-11, 1.08287259e-11],\n",
       "        ...,\n",
       "        [           nan,            nan,            nan, ...,\n",
       "                    nan,            nan,            nan],\n",
       "        [           nan,            nan,            nan, ...,\n",
       "                    nan,            nan,            nan],\n",
       "        [           nan,            nan,            nan, ...,\n",
       "                    nan,            nan,            nan]],\n",
       "\n",
       "       [[3.11418114e-11, 3.11418114e-11, 3.11418114e-11, ...,\n",
       "         3.11418114e-11, 3.11418114e-11, 3.11418114e-11],\n",
       "        [3.00181442e-11, 3.00203994e-11, 3.00235253e-11, ...,\n",
       "         3.00150148e-11, 3.00152091e-11, 3.00163228e-11],\n",
       "        [2.93792074e-11, 2.93616173e-11, 2.93464940e-11, ...,\n",
       "         2.94454287e-11, 2.94215555e-11, 2.93992851e-11],\n",
       "        ...,\n",
       "        [           nan,            nan,            nan, ...,\n",
       "                    nan,            nan,            nan],\n",
       "        [           nan,            nan,            nan, ...,\n",
       "                    nan,            nan,            nan],\n",
       "        [           nan,            nan,            nan, ...,\n",
       "                    nan,            nan,            nan]],\n",
       "\n",
       "       ...,\n",
       "\n",
       "       [[1.37697997e-09, 1.37694667e-09, 1.37694445e-09, ...,\n",
       "         1.37694811e-09, 1.37698219e-09, 1.37694567e-09],\n",
       "        [1.28748034e-09, 1.28829192e-09, 1.28793332e-09, ...,\n",
       "         1.29470856e-09, 1.29406197e-09, 1.28891664e-09],\n",
       "        [1.19170285e-09, 1.19467414e-09, 1.19994104e-09, ...,\n",
       "         1.18837917e-09, 1.18850940e-09, 1.18840937e-09],\n",
       "        ...,\n",
       "        [           nan,            nan,            nan, ...,\n",
       "                    nan,            nan,            nan],\n",
       "        [           nan,            nan,            nan, ...,\n",
       "                    nan,            nan,            nan],\n",
       "        [           nan,            nan,            nan, ...,\n",
       "                    nan,            nan,            nan]],\n",
       "\n",
       "       [[1.25785060e-09, 1.25658639e-09, 1.25660149e-09, ...,\n",
       "         1.25660016e-09, 1.25785415e-09, 1.25664790e-09],\n",
       "        [1.20110955e-09, 1.20146337e-09, 1.20154775e-09, ...,\n",
       "         1.19268750e-09, 1.19546384e-09, 1.19800103e-09],\n",
       "        [1.11456011e-09, 1.12320730e-09, 1.12956511e-09, ...,\n",
       "         1.09423903e-09, 1.10196541e-09, 1.10824583e-09],\n",
       "        ...,\n",
       "        [           nan,            nan,            nan, ...,\n",
       "                    nan,            nan,            nan],\n",
       "        [           nan,            nan,            nan, ...,\n",
       "                    nan,            nan,            nan],\n",
       "        [           nan,            nan,            nan, ...,\n",
       "                    nan,            nan,            nan]],\n",
       "\n",
       "       [[1.06872000e-09, 1.07010834e-09, 1.07008846e-09, ...,\n",
       "         1.07009102e-09, 1.06871301e-09, 1.07002829e-09],\n",
       "        [1.04344688e-09, 1.04638676e-09, 1.05281706e-09, ...,\n",
       "         1.03115549e-09, 1.03337827e-09, 1.03867581e-09],\n",
       "        [1.00971398e-09, 1.02128350e-09, 1.03515629e-09, ...,\n",
       "         9.79234471e-10, 9.88123583e-10, 9.98289451e-10],\n",
       "        ...,\n",
       "        [           nan,            nan,            nan, ...,\n",
       "                    nan,            nan,            nan],\n",
       "        [           nan,            nan,            nan, ...,\n",
       "                    nan,            nan,            nan],\n",
       "        [           nan,            nan,            nan, ...,\n",
       "                    nan,            nan,            nan]]], dtype=float32)"
      ]
     },
     "execution_count": 27,
     "metadata": {},
     "output_type": "execute_result"
    }
   ],
   "source": [
    "ab0_orig.data"
   ]
  },
  {
   "cell_type": "code",
   "execution_count": 28,
   "id": "assisted-camping",
   "metadata": {},
   "outputs": [
    {
     "data": {
      "text/plain": [
       "array([[[2.3803182e-12, 2.3803182e-12, 2.3803182e-12, ...,\n",
       "         2.3803182e-12, 2.3803182e-12, 2.3803182e-12],\n",
       "        [2.3803182e-12, 2.3803182e-12, 2.3803182e-12, ...,\n",
       "         2.3803182e-12, 2.3803182e-12, 2.3803182e-12],\n",
       "        [2.3803182e-12, 2.3803182e-12, 2.3803182e-12, ...,\n",
       "         2.3838709e-12, 2.3838709e-12, 2.3838709e-12],\n",
       "        ...,\n",
       "        [          nan,           nan,           nan, ...,\n",
       "                   nan,           nan,           nan],\n",
       "        [          nan,           nan,           nan, ...,\n",
       "                   nan,           nan,           nan],\n",
       "        [          nan,           nan,           nan, ...,\n",
       "                   nan,           nan,           nan]],\n",
       "\n",
       "       [[1.1468160e-11, 1.1468160e-11, 1.1468160e-11, ...,\n",
       "         1.1468160e-11, 1.1468160e-11, 1.1468160e-11],\n",
       "        [1.1112888e-11, 1.1112888e-11, 1.1112888e-11, ...,\n",
       "         1.1127099e-11, 1.1127099e-11, 1.1127099e-11],\n",
       "        [1.0807355e-11, 1.0793144e-11, 1.0778933e-11, ...,\n",
       "         1.0864198e-11, 1.0849988e-11, 1.0835777e-11],\n",
       "        ...,\n",
       "        [          nan,           nan,           nan, ...,\n",
       "                   nan,           nan,           nan],\n",
       "        [          nan,           nan,           nan, ...,\n",
       "                   nan,           nan,           nan],\n",
       "        [          nan,           nan,           nan, ...,\n",
       "                   nan,           nan,           nan]],\n",
       "\n",
       "       [[3.1150194e-11, 3.1150194e-11, 3.1150194e-11, ...,\n",
       "         3.1150194e-11, 3.1150194e-11, 3.1150194e-11],\n",
       "        [3.0013325e-11, 3.0013325e-11, 3.0013325e-11, ...,\n",
       "         3.0013325e-11, 3.0013325e-11, 3.0013325e-11],\n",
       "        [2.9331204e-11, 2.9331204e-11, 2.9331204e-11, ...,\n",
       "         2.9444891e-11, 2.9444891e-11, 2.9444891e-11],\n",
       "        ...,\n",
       "        [          nan,           nan,           nan, ...,\n",
       "                   nan,           nan,           nan],\n",
       "        [          nan,           nan,           nan, ...,\n",
       "                   nan,           nan,           nan],\n",
       "        [          nan,           nan,           nan, ...,\n",
       "                   nan,           nan,           nan]],\n",
       "\n",
       "       ...,\n",
       "\n",
       "       [[1.3769750e-09, 1.3769750e-09, 1.3769750e-09, ...,\n",
       "         1.3769750e-09, 1.3769750e-09, 1.3769750e-09],\n",
       "        [1.2869350e-09, 1.2887540e-09, 1.2869350e-09, ...,\n",
       "         1.2946657e-09, 1.2955752e-09, 1.2892087e-09],\n",
       "        [1.1923476e-09, 1.1941665e-09, 1.1996235e-09, ...,\n",
       "         1.1878001e-09, 1.1878001e-09, 1.1878001e-09],\n",
       "        ...,\n",
       "        [          nan,           nan,           nan, ...,\n",
       "                   nan,           nan,           nan],\n",
       "        [          nan,           nan,           nan, ...,\n",
       "                   nan,           nan,           nan],\n",
       "        [          nan,           nan,           nan, ...,\n",
       "                   nan,           nan,           nan]],\n",
       "\n",
       "       [[1.2569217e-09, 1.2569217e-09, 1.2569217e-09, ...,\n",
       "         1.2569217e-09, 1.2569217e-09, 1.2569217e-09],\n",
       "        [1.2005330e-09, 1.2005330e-09, 1.2005330e-09, ...,\n",
       "         1.1941665e-09, 1.1959855e-09, 1.1978045e-09],\n",
       "        [1.1150405e-09, 1.1223165e-09, 1.1295924e-09, ...,\n",
       "         1.0950316e-09, 1.1023076e-09, 1.1095835e-09],\n",
       "        ...,\n",
       "        [          nan,           nan,           nan, ...,\n",
       "                   nan,           nan,           nan],\n",
       "        [          nan,           nan,           nan, ...,\n",
       "                   nan,           nan,           nan],\n",
       "        [          nan,           nan,           nan, ...,\n",
       "                   nan,           nan,           nan]],\n",
       "\n",
       "       [[1.0695658e-09, 1.0695658e-09, 1.0695658e-09, ...,\n",
       "         1.0695658e-09, 1.0695658e-09, 1.0695658e-09],\n",
       "        [1.0450094e-09, 1.0468284e-09, 1.0522854e-09, ...,\n",
       "         1.0313670e-09, 1.0350050e-09, 1.0386429e-09],\n",
       "        [1.0086296e-09, 1.0213626e-09, 1.0340955e-09, ...,\n",
       "         9.7952579e-10, 9.8862074e-10, 9.9771569e-10],\n",
       "        ...,\n",
       "        [          nan,           nan,           nan, ...,\n",
       "                   nan,           nan,           nan],\n",
       "        [          nan,           nan,           nan, ...,\n",
       "                   nan,           nan,           nan],\n",
       "        [          nan,           nan,           nan, ...,\n",
       "                   nan,           nan,           nan]]], dtype=float32)"
      ]
     },
     "execution_count": 28,
     "metadata": {},
     "output_type": "execute_result"
    }
   ],
   "source": [
    "ab0_comp.data"
   ]
  },
  {
   "cell_type": "code",
   "execution_count": 10,
   "id": "confident-senior",
   "metadata": {},
   "outputs": [
    {
     "name": "stdout",
     "output_type": "stream",
     "text": [
      "dataset size in GB 0.04\n",
      "\n"
     ]
    }
   ],
   "source": [
    "t_col = ldcpy.open_datasets(\"cam-fv\",\n",
    "    [\"T\"],\n",
    "    [\n",
    "        \"../../../data/cam-fv/cam-fv.T.3months.nc\",\n",
    "        \"../../../data/cam-fv/c.fpzip.cam-fv.T.3months.nc\",\n",
    "    ],\n",
    "    [\"orig\", \"comp\"],\n",
    "    chunks={\"time\": 1},\n",
    ")"
   ]
  },
  {
   "cell_type": "code",
   "execution_count": 11,
   "id": "conventional-services",
   "metadata": {},
   "outputs": [],
   "source": [
    "t_orig = t_col[\"T\"].sel(collection=\"orig\").isel(time=0).compute()\n",
    "t_comp = t_col[\"T\"].sel(collection=\"comp\").isel(time=0).compute()\n",
    "t_differ = ldcpy.calcs.Diffcalcs(t_orig, t_comp)"
   ]
  },
  {
   "cell_type": "code",
   "execution_count": 12,
   "id": "generic-vietnamese",
   "metadata": {},
   "outputs": [
    {
     "name": "stdout",
     "output_type": "stream",
     "text": [
      "CPU times: user 964 ms, sys: 9.72 ms, total: 973 ms\n",
      "Wall time: 974 ms\n"
     ]
    },
    {
     "data": {
      "text/plain": [
       "0.9061011332137472"
      ]
     },
     "execution_count": 12,
     "metadata": {},
     "output_type": "execute_result"
    }
   ],
   "source": [
    "%%time\n",
    "sfp = t_differ.get_diff_calc('ssim_fp')\n",
    "sfp"
   ]
  },
  {
   "cell_type": "code",
   "execution_count": 7,
   "id": "aggregate-martial",
   "metadata": {},
   "outputs": [
    {
     "name": "stdout",
     "output_type": "stream",
     "text": [
      "CPU times: user 938 ms, sys: 5.85 ms, total: 944 ms\n",
      "Wall time: 944 ms\n"
     ]
    },
    {
     "data": {
      "text/plain": [
       "0.8880922728873855"
      ]
     },
     "execution_count": 7,
     "metadata": {},
     "output_type": "execute_result"
    }
   ],
   "source": [
    "%%time\n",
    "sfp_f2 = t_differ.get_diff_calc('ssim_fp_fast2')\n",
    "sfp_f2"
   ]
  },
  {
   "cell_type": "code",
   "execution_count": 8,
   "id": "fallen-staff",
   "metadata": {},
   "outputs": [
    {
     "data": {
      "image/png": "[encoded data removed]",
      "text/plain": [
       "<Figure size 432x288 with 2 Axes>"
      ]
     },
     "metadata": {
      "needs_background": "light"
     },
     "output_type": "display_data"
    }
   ],
   "source": [
    "b2_orig = t_differ.plot_ssim_mat(ssim_type = \"ssim_fp_fast2\", return_mat = True)"
   ]
  },
  {
   "cell_type": "code",
   "execution_count": 312,
   "id": "postal-hammer",
   "metadata": {},
   "outputs": [
    {
     "data": {
      "image/png": "[encoded data removed]",
      "text/plain": [
       "<Figure size 432x288 with 2 Axes>"
      ]
     },
     "metadata": {
      "needs_background": "light"
     },
     "output_type": "display_data"
    }
   ],
   "source": [
    "b_orig = t_differ.plot_ssim_mat(ssim_type = \"ssim_fp\", return_mat = True)"
   ]
  },
  {
   "cell_type": "code",
   "execution_count": 313,
   "id": "actual-asset",
   "metadata": {},
   "outputs": [],
   "source": [
    "b3 = b_orig[3]"
   ]
  },
  {
   "cell_type": "code",
   "execution_count": 314,
   "id": "frozen-stanley",
   "metadata": {},
   "outputs": [],
   "source": [
    "b3_f3 = b2_orig[3]"
   ]
  },
  {
   "cell_type": "code",
   "execution_count": 315,
   "id": "vital-router",
   "metadata": {},
   "outputs": [
    {
     "data": {
      "text/plain": [
       "array([0.0305976 , 0.03786224, 0.04641892, 0.05342086, 0.05715095,\n",
       "       0.0584116 , 0.05868464, 0.05872158, 0.05872158, 0.05872158])"
      ]
     },
     "execution_count": 315,
     "metadata": {},
     "output_type": "execute_result"
    }
   ],
   "source": [
    "b3[0,0:10]"
   ]
  },
  {
   "cell_type": "code",
   "execution_count": 316,
   "id": "emotional-bruce",
   "metadata": {},
   "outputs": [
    {
     "data": {
      "text/plain": [
       "array([0.0230998 , 0.03150093, 0.04183651, 0.04999088, 0.05413637,\n",
       "       0.05549502, 0.05578141, 0.05582016, 0.05582016, 0.05582016])"
      ]
     },
     "execution_count": 316,
     "metadata": {},
     "output_type": "execute_result"
    }
   ],
   "source": [
    "b3_f3[0,0:10]"
   ]
  },
  {
   "cell_type": "code",
   "execution_count": 292,
   "id": "bulgarian-norman",
   "metadata": {},
   "outputs": [
    {
     "name": "stdout",
     "output_type": "stream",
     "text": [
      "0.9298646182793412\n",
      "0.9338080289533953\n",
      "0.9128888569153867\n",
      "0.8891553677069095\n",
      "0.9219447483593617\n",
      "0.950433032485933\n",
      "0.9567155719435868\n",
      "0.9618682707072592\n",
      "0.953132348868878\n",
      "0.9625894838900138\n",
      "0.9482154284299135\n",
      "0.9569606959244498\n",
      "0.9708709746288721\n",
      "0.975169355182279\n",
      "0.9742390779069423\n",
      "0.9637309126764998\n",
      "0.9633171294886109\n",
      "0.953864587414013\n",
      "0.9564010347766368\n",
      "0.9599767960584688\n",
      "0.9542202317787117\n",
      "0.9602051704372374\n",
      "0.9648150615979004\n",
      "0.9685645037609123\n",
      "0.9717624962521593\n",
      "0.9770243143044053\n",
      "0.9799167110059246\n",
      "0.9812655499504281\n",
      "0.9726292660009529\n",
      "0.9753710626538508\n"
     ]
    }
   ],
   "source": [
    "for i in range(len(b_orig)):\n",
    "    print(b_orig[i].mean())"
   ]
  },
  {
   "cell_type": "code",
   "execution_count": 293,
   "id": "radical-chemical",
   "metadata": {},
   "outputs": [],
   "source": [
    "#let's just look at level 3\n",
    "t3_orig = t_col[\"T\"].sel(collection=\"orig\").isel(time=0).isel(lev=3).compute().data\n",
    "t3_comp = t_col[\"T\"].sel(collection=\"comp\").isel(time=0).isel(lev=3).compute().data"
   ]
  },
  {
   "cell_type": "code",
   "execution_count": 294,
   "id": "biological-congo",
   "metadata": {},
   "outputs": [],
   "source": [
    "b3 = b_orig[3]"
   ]
  },
  {
   "cell_type": "code",
   "execution_count": 295,
   "id": "ethical-unemployment",
   "metadata": {},
   "outputs": [
    {
     "data": {
      "text/plain": [
       "0.0025944135995811394"
      ]
     },
     "execution_count": 295,
     "metadata": {},
     "output_type": "execute_result"
    }
   ],
   "source": [
    "ind1 = (110, 53)\n",
    "b3[ind1]"
   ]
  },
  {
   "cell_type": "code",
   "execution_count": 296,
   "id": "loose-plane",
   "metadata": {},
   "outputs": [
    {
     "data": {
      "text/plain": [
       "0.9631049674000072"
      ]
     },
     "execution_count": 296,
     "metadata": {},
     "output_type": "execute_result"
    }
   ],
   "source": [
    "ind2 = (10,53)\n",
    "b3[ind2]"
   ]
  },
  {
   "cell_type": "code",
   "execution_count": 217,
   "id": "fantastic-concert",
   "metadata": {},
   "outputs": [
    {
     "data": {
      "text/plain": [
       "0.0026618154102974957"
      ]
     },
     "execution_count": 217,
     "metadata": {},
     "output_type": "execute_result"
    }
   ],
   "source": [
    "ind3 = (0,245)\n",
    "b3[ind3]"
   ]
  },
  {
   "cell_type": "code",
   "execution_count": 218,
   "id": "structural-flesh",
   "metadata": {},
   "outputs": [
    {
     "name": "stdout",
     "output_type": "stream",
     "text": [
      "smin =  182.875  smax =  238.73638916015625  r=  55.86138916015625\n"
     ]
    }
   ],
   "source": [
    "import numpy as np\n",
    "from math import exp, pi, sqrt\n",
    "\n",
    "a1 = t3_orig\n",
    "a2 = t3_comp\n",
    "a1 = a1.astype('float64')\n",
    "a2 = a2.astype('float64')\n",
    "smin = min(np.nanmin(a1), np.nanmin(a2))\n",
    "smax = max(np.nanmax(a1), np.nanmax(a2))\n",
    "r = smax - smin\n",
    "print(\"smin = \", smin, \" smax = \", smax, \" r= \", r)\n",
    "sc_a1 = (a1 - smin) / r\n",
    "sc_a2 = (a2 - smin) / r\n",
    "sc_a1 = np.round(sc_a1 * 255) / 255\n",
    "sc_a2 = np.round(sc_a2 * 255) / 255"
   ]
  },
  {
   "cell_type": "code",
   "execution_count": 219,
   "id": "portable-hawaiian",
   "metadata": {},
   "outputs": [],
   "source": [
    "my_eps = 1.0e-8\n",
    "sigma = 1.5\n",
    "n=11\n",
    "k=5\n",
    "def oned_gauss(n, sigma):\n",
    "        r = range(-int(n / 2), int(n / 2) + 1)\n",
    "        return [(1 / (sigma * sqrt(2 * pi))) * exp(-float(x) ** 2 / (2 * sigma ** 2)) for x in r]\n",
    "g_w = np.array(oned_gauss(n, sigma))\n",
    "gg_w = np.outer(g_w, g_w)\n"
   ]
  },
  {
   "cell_type": "code",
   "execution_count": 220,
   "id": "enhanced-belfast",
   "metadata": {},
   "outputs": [],
   "source": [
    "#ind1\n",
    "a1_win = sc_a1[105:116, 48:59]\n",
    "a2_win = sc_a2[105:116, 48:59]\n",
    "Wt = gg_w\n",
    "##ind2\n",
    "#a1_win = sc_a1[5:16, 48:59]\n",
    "#a2_win = sc_a2[5:16, 48:59]\n",
    "#Wt = gg_w\n",
    "##ind3\n",
    "a1_win = sc_a1[0:6, 240:251]\n",
    "a2_win = sc_a2[0:6, 240:251]\n",
    "Wt = gg_w[5:11,0:11]"
   ]
  },
  {
   "cell_type": "code",
   "execution_count": 221,
   "id": "nasty-quantum",
   "metadata": {},
   "outputs": [
    {
     "name": "stdout",
     "output_type": "stream",
     "text": [
      "a1_mu =  0.9977264149010838\n",
      "a2_mu =  0.996078431372549\n",
      "a1_std_sq =  3.746830793738276e-06\n",
      "a2_std_sq =  -3.3306690738754696e-16\n",
      "a1a2_cov =  -2.220446049250313e-16\n"
     ]
    }
   ],
   "source": [
    "indices1 = ~np.isnan(a1_win)\n",
    "indices2 = ~np.isnan(a2_win)\n",
    "a1_mu = np.average(a1_win[indices1], weights=Wt[indices1])\n",
    "a2_mu = np.average(a2_win[indices2], weights=Wt[indices2])\n",
    "a1_std_sq = (\n",
    "                            np.average((a1_win[indices1] * a1_win[indices1]), weights=Wt[indices1])\n",
    "                            - a1_mu * a1_mu\n",
    "                        )\n",
    "a2_std_sq = (\n",
    "                            np.average((a2_win[indices2] * a2_win[indices2]), weights=Wt[indices2])\n",
    "                            - a2_mu * a2_mu\n",
    "                        )\n",
    "a1a2_cov = (\n",
    "                            np.average(\n",
    "                                (a1_win[indices1] * a2_win[indices2]),\n",
    "                                weights=Wt[indices1],\n",
    "                            )\n",
    "                            - a1_mu * a2_mu\n",
    "                        )\n",
    "print(\"a1_mu = \", a1_mu)\n",
    "print(\"a2_mu = \", a2_mu)\n",
    "print(\"a1_std_sq = \", a1_std_sq)\n",
    "print(\"a2_std_sq = \", a2_std_sq)\n",
    "print(\"a1a2_cov = \", a1a2_cov)"
   ]
  },
  {
   "cell_type": "code",
   "execution_count": 222,
   "id": "incredible-saver",
   "metadata": {},
   "outputs": [
    {
     "name": "stdout",
     "output_type": "stream",
     "text": [
      "ssim_t1 =  1.9876275345872572\n",
      "ssim_b1 =  1.9876302504369674\n",
      "ssim_t2 =  9.99999955591079e-09\n",
      "ssim_b2 =  3.756830793405209e-06\n"
     ]
    }
   ],
   "source": [
    "C1 = C2 = my_eps\n",
    "ssim_t1 = 2 * a1_mu * a2_mu + C1\n",
    "ssim_b1 = a1_mu * a1_mu + a2_mu * a2_mu + C1\n",
    "ssim_t2 = 2 * a1a2_cov + C2\n",
    "ssim_b2 = a1_std_sq + a2_std_sq + C2\n",
    "print(\"ssim_t1 = \", ssim_t1)\n",
    "print(\"ssim_b1 = \", ssim_b1)\n",
    "print(\"ssim_t2 = \", ssim_t2)\n",
    "print(\"ssim_b2 = \", ssim_b2)"
   ]
  },
  {
   "cell_type": "code",
   "execution_count": 223,
   "id": "american-killing",
   "metadata": {},
   "outputs": [
    {
     "name": "stdout",
     "output_type": "stream",
     "text": [
      "ssim_1 =  0.9999986336242822\n",
      "ssim_2 =  0.0026618179273511394\n",
      "s =  0.002661814290307758\n"
     ]
    }
   ],
   "source": [
    "ssim_1 = ssim_t1 / ssim_b1\n",
    "ssim_2 = ssim_t2 / ssim_b2\n",
    "print(\"ssim_1 = \", ssim_1)\n",
    "print(\"ssim_2 = \", ssim_2)\n",
    "s = ssim_1 * ssim_2\n",
    "print(\"s = \", s)"
   ]
  },
  {
   "cell_type": "code",
   "execution_count": 224,
   "id": "compact-tomato",
   "metadata": {},
   "outputs": [
    {
     "name": "stdout",
     "output_type": "stream",
     "text": [
      "0.0025944135995811394\n",
      "0.9631049674000072\n",
      "0.0026618154102974957\n"
     ]
    }
   ],
   "source": [
    "print(b3[ind1])\n",
    "print(b3[ind2])\n",
    "print(b3[ind3])\n"
   ]
  },
  {
   "cell_type": "code",
   "execution_count": 200,
   "id": "entertaining-remedy",
   "metadata": {},
   "outputs": [
    {
     "name": "stdout",
     "output_type": "stream",
     "text": [
      "a1_win_std =  0.0014614823382351515\n",
      "a2_win_std =  1.1102230246251565e-16\n",
      "a1_win_mean =  0.996732026143791\n",
      "a2_win_mean =  0.9960784313725491\n",
      "a1 at (110, 53) =  216.9467315673828\n",
      "a2 at (110, 53) =  216.9375\n",
      "sc_a1 at (110, 53) =  0.611764705882353\n",
      "sc_a2 at (110, 53) =  0.6078431372549019\n"
     ]
    }
   ],
   "source": [
    "print(\"a1_win_std = \", a1_win.std())\n",
    "print(\"a2_win_std = \", a2_win.std())\n",
    "print(\"a1_win_mean = \", a1_win.mean())\n",
    "print(\"a2_win_mean = \", a2_win.mean())\n",
    "print (f\"a1 at {ind1} = \",a1[ind1])\n",
    "print (f\"a2 at {ind1} = \",a2[ind1])\n",
    "print (f\"sc_a1 at {ind1} = \",sc_a1[ind1])\n",
    "print (f\"sc_a2 at {ind1} = \",sc_a2[ind1])\n"
   ]
  },
  {
   "cell_type": "code",
   "execution_count": 201,
   "id": "undefined-kidney",
   "metadata": {},
   "outputs": [
    {
     "data": {
      "text/plain": [
       "array([0.99607843])"
      ]
     },
     "execution_count": 201,
     "metadata": {},
     "output_type": "execute_result"
    }
   ],
   "source": [
    "np.unique(a2_win)"
   ]
  },
  {
   "cell_type": "code",
   "execution_count": 202,
   "id": "third-cargo",
   "metadata": {},
   "outputs": [
    {
     "data": {
      "text/plain": [
       "array([0.99607843, 1.        ])"
      ]
     },
     "execution_count": 202,
     "metadata": {},
     "output_type": "execute_result"
    }
   ],
   "source": [
    "np.unique(a1_win)"
   ]
  },
  {
   "cell_type": "code",
   "execution_count": 203,
   "id": "photographic-mechanism",
   "metadata": {},
   "outputs": [
    {
     "data": {
      "text/plain": [
       "0.00392156862745098"
      ]
     },
     "execution_count": 203,
     "metadata": {},
     "output_type": "execute_result"
    }
   ],
   "source": [
    "np.min(sc_a1[np.nonzero(sc_a1)])\n"
   ]
  },
  {
   "cell_type": "code",
   "execution_count": 204,
   "id": "promising-cowboy",
   "metadata": {},
   "outputs": [
    {
     "data": {
      "text/plain": [
       "0.00392156862745098"
      ]
     },
     "execution_count": 204,
     "metadata": {},
     "output_type": "execute_result"
    }
   ],
   "source": [
    "np.min(sc_a1[np.nonzero(sc_a2)])\n"
   ]
  },
  {
   "cell_type": "code",
   "execution_count": 205,
   "id": "composed-august",
   "metadata": {},
   "outputs": [
    {
     "data": {
      "text/plain": [
       "array([[1.        , 1.        , 1.        , 1.        , 1.        ,\n",
       "        1.        , 1.        , 1.        , 1.        , 1.        ,\n",
       "        1.        ],\n",
       "       [0.99607843, 0.99607843, 0.99607843, 0.99607843, 0.99607843,\n",
       "        0.99607843, 0.99607843, 0.99607843, 0.99607843, 0.99607843,\n",
       "        0.99607843],\n",
       "       [0.99607843, 0.99607843, 0.99607843, 0.99607843, 0.99607843,\n",
       "        0.99607843, 0.99607843, 0.99607843, 0.99607843, 0.99607843,\n",
       "        0.99607843],\n",
       "       [0.99607843, 0.99607843, 0.99607843, 0.99607843, 0.99607843,\n",
       "        0.99607843, 0.99607843, 0.99607843, 0.99607843, 0.99607843,\n",
       "        0.99607843],\n",
       "       [0.99607843, 0.99607843, 0.99607843, 0.99607843, 0.99607843,\n",
       "        0.99607843, 0.99607843, 0.99607843, 0.99607843, 0.99607843,\n",
       "        0.99607843],\n",
       "       [0.99607843, 0.99607843, 0.99607843, 0.99607843, 0.99607843,\n",
       "        0.99607843, 0.99607843, 0.99607843, 0.99607843, 0.99607843,\n",
       "        0.99607843]])"
      ]
     },
     "execution_count": 205,
     "metadata": {},
     "output_type": "execute_result"
    }
   ],
   "source": [
    "a1_win"
   ]
  },
  {
   "cell_type": "code",
   "execution_count": null,
   "id": "future-tiffany",
   "metadata": {},
   "outputs": [],
   "source": []
  },
  {
   "cell_type": "code",
   "execution_count": 317,
   "id": "excess-caribbean",
   "metadata": {},
   "outputs": [
    {
     "name": "stdout",
     "output_type": "stream",
     "text": [
      "dataset size in GB 0.04\n",
      "\n"
     ]
    }
   ],
   "source": [
    "cloud_col = ldcpy.open_datasets(\n",
    "    [\"CLOUD\"],\n",
    "    [\n",
    "        \"../../../data/cam-fv/cam-fv.CLOUD.3months.nc\",\n",
    "        \"../../../data/cam-fv/c.fpzip.cam-fv.CLOUD.3months.nc\",\n",
    "    ],\n",
    "    [\"orig\", \"comp\"],\n",
    "    chunks={\"time\": 1},\n",
    ")"
   ]
  },
  {
   "cell_type": "code",
   "execution_count": 327,
   "id": "olive-kelly",
   "metadata": {},
   "outputs": [],
   "source": [
    "c_orig = cloud_col[\"CLOUD\"].sel(collection=\"orig\").isel(time=0).compute()\n",
    "c_comp = cloud_col[\"CLOUD\"].sel(collection=\"comp\").isel(time=0).compute()\n",
    "c_differ = ldcpy.calcs.Diffcalcs(c_orig, c_comp)"
   ]
  },
  {
   "cell_type": "code",
   "execution_count": 328,
   "id": "equivalent-exposure",
   "metadata": {},
   "outputs": [
    {
     "name": "stdout",
     "output_type": "stream",
     "text": [
      "CPU times: user 908 ms, sys: 7.07 ms, total: 915 ms\n",
      "Wall time: 914 ms\n"
     ]
    },
    {
     "data": {
      "text/plain": [
       "0.9984415138039057"
      ]
     },
     "execution_count": 328,
     "metadata": {},
     "output_type": "execute_result"
    }
   ],
   "source": [
    "%%time\n",
    "sfp = c_differ.get_diff_calc('ssim_fp')\n",
    "sfp"
   ]
  },
  {
   "cell_type": "code",
   "execution_count": 329,
   "id": "micro-karaoke",
   "metadata": {},
   "outputs": [
    {
     "name": "stdout",
     "output_type": "stream",
     "text": [
      "CPU times: user 904 ms, sys: 6.55 ms, total: 911 ms\n",
      "Wall time: 910 ms\n"
     ]
    },
    {
     "data": {
      "text/plain": [
       "0.998506105632757"
      ]
     },
     "execution_count": 329,
     "metadata": {},
     "output_type": "execute_result"
    }
   ],
   "source": [
    "%%time\n",
    "sfp = c_differ.get_diff_calc('ssim_fp_fast2')\n",
    "sfp"
   ]
  },
  {
   "cell_type": "code",
   "execution_count": 321,
   "id": "atmospheric-heather",
   "metadata": {},
   "outputs": [
    {
     "data": {
      "image/png": "[encoded data removed]",
      "text/plain": [
       "<Figure size 432x288 with 2 Axes>"
      ]
     },
     "metadata": {
      "needs_background": "light"
     },
     "output_type": "display_data"
    }
   ],
   "source": [
    "c_ssim_mats = c_differ.plot_ssim_mat(ssim_type = \"ssim_fp\", return_mat = True)"
   ]
  },
  {
   "cell_type": "code",
   "execution_count": 323,
   "id": "taken-elements",
   "metadata": {},
   "outputs": [
    {
     "data": {
      "image/png": "[encoded data removed]",
      "text/plain": [
       "<Figure size 432x288 with 2 Axes>"
      ]
     },
     "metadata": {
      "needs_background": "light"
     },
     "output_type": "display_data"
    }
   ],
   "source": [
    "c2_ssim_mats = c_differ.plot_ssim_mat(ssim_type = \"ssim_fp_fast2\", return_mat = True)"
   ]
  },
  {
   "cell_type": "code",
   "execution_count": 322,
   "id": "internal-auckland",
   "metadata": {},
   "outputs": [
    {
     "name": "stdout",
     "output_type": "stream",
     "text": [
      "1.0\n",
      "1.0\n",
      "0.9999945579336562\n",
      "0.9999863075339301\n",
      "0.9999645156806679\n",
      "0.9999998761254476\n",
      "0.9999908267523646\n",
      "0.9999433233414297\n",
      "0.9997743067379835\n",
      "0.9997858245863741\n",
      "0.9994430199096952\n",
      "0.9993804923613221\n",
      "0.9984415138039057\n",
      "0.9985431261495231\n",
      "0.9987848971205854\n",
      "0.9989945723737227\n",
      "0.9990480765605659\n",
      "0.9992066587691488\n",
      "0.999174891023137\n",
      "0.9992400681618896\n",
      "0.9992455236287883\n",
      "0.9991583889324516\n",
      "0.999055166356805\n",
      "0.9988546975085154\n",
      "0.9988777033245405\n",
      "0.9987492305071063\n",
      "0.9989619602588521\n",
      "0.9990710074872529\n",
      "0.9989691038257177\n",
      "0.9990971631153388\n"
     ]
    }
   ],
   "source": [
    "for i in range(len(c_ssim_mats)):\n",
    "    print(c_ssim_mats[i].mean())"
   ]
  },
  {
   "cell_type": "code",
   "execution_count": null,
   "id": "hourly-cabin",
   "metadata": {},
   "outputs": [],
   "source": [
    "c12_ssim = c_ssim_mats[12]"
   ]
  },
  {
   "cell_type": "code",
   "execution_count": null,
   "id": "mature-seventh",
   "metadata": {},
   "outputs": [],
   "source": [
    "c12_orig = cloud_col[\"CLOUD\"].sel(collection=\"orig\").isel(time=0).isel(lev=12).compute().data\n",
    "c12_comp = cloud_col[\"CLOUD\"].sel(collection=\"comp\").isel(time=0).isel(lev=12).compute().data"
   ]
  },
  {
   "cell_type": "code",
   "execution_count": null,
   "id": "solved-tract",
   "metadata": {},
   "outputs": [],
   "source": [
    "ind = (13,26)"
   ]
  },
  {
   "cell_type": "code",
   "execution_count": null,
   "id": "searching-invalid",
   "metadata": {},
   "outputs": [],
   "source": [
    "print(c12_ssim[ind])\n",
    "print(c12_orig[ind])\n",
    "print(c12_comp[ind])\n",
    "      "
   ]
  },
  {
   "cell_type": "code",
   "execution_count": null,
   "id": "specified-argument",
   "metadata": {},
   "outputs": [],
   "source": [
    "import numpy as np\n",
    "from math import exp, pi, sqrt\n",
    "\n",
    "a1 = c12_orig\n",
    "a2 = c12_comp\n",
    "a1 = a1.astype('float64')\n",
    "a2 = a2.astype('float64')\n",
    "smin = min(np.nanmin(a1), np.nanmin(a2))\n",
    "smax = max(np.nanmax(a1), np.nanmax(a2))\n",
    "r = smax - smin\n",
    "print(\"smin = \", smin, \" smax = \", smax, \" r= \", r)\n",
    "sc_a1 = (a1 - smin) / r\n",
    "sc_a2 = (a2 - smin) / r\n",
    "sc_a1 = np.round(sc_a1 * 255) / 255\n",
    "sc_a2 = np.round(sc_a2 * 255) / 255"
   ]
  },
  {
   "cell_type": "code",
   "execution_count": null,
   "id": "moral-spray",
   "metadata": {},
   "outputs": [],
   "source": [
    "my_eps = 1.0e-15\n",
    "sigma = 1.5\n",
    "n=11\n",
    "k=5\n",
    "def oned_gauss(n, sigma):\n",
    "        r = range(-int(n / 2), int(n / 2) + 1)\n",
    "        return [(1 / (sigma * sqrt(2 * pi))) * exp(-float(x) ** 2 / (2 * sigma ** 2)) for x in r]\n",
    "g_w = np.array(oned_gauss(n, sigma))\n",
    "gg_w = np.outer(g_w, g_w)\n"
   ]
  },
  {
   "cell_type": "code",
   "execution_count": null,
   "id": "remarkable-patrick",
   "metadata": {},
   "outputs": [],
   "source": [
    "a1_win = sc_a1[8:19, 21:32]\n",
    "a2_win = sc_a2[8:19, 21:32]\n",
    "Wt = gg_w"
   ]
  },
  {
   "cell_type": "code",
   "execution_count": null,
   "id": "egyptian-header",
   "metadata": {},
   "outputs": [],
   "source": [
    "indices1 = ~np.isnan(a1_win)\n",
    "indices2 = ~np.isnan(a2_win)\n",
    "a1_mu = np.average(a1_win[indices1], weights=Wt[indices1])\n",
    "a2_mu = np.average(a2_win[indices2], weights=Wt[indices2])\n",
    "a1_std_sq = (\n",
    "                            np.average((a1_win[indices1] * a1_win[indices1]), weights=Wt[indices1])\n",
    "                            - a1_mu * a1_mu\n",
    "                        )\n",
    "a2_std_sq = (\n",
    "                            np.average((a2_win[indices2] * a2_win[indices2]), weights=Wt[indices2])\n",
    "                            - a2_mu * a2_mu\n",
    "                        )\n",
    "a1a2_cov = (\n",
    "                            np.average(\n",
    "                                (a1_win[indices1] * a2_win[indices2]),\n",
    "                                weights=Wt[indices1],\n",
    "                            )\n",
    "                            - a1_mu * a2_mu\n",
    "                        )\n",
    "print(\"a1_mu = \", a1_mu)\n",
    "print(\"a2_mu = \", a2_mu)\n",
    "print(\"a1_std_sq = \", a1_std_sq)\n",
    "print(\"a2_std_sq = \", a2_std_sq)\n",
    "print(\"a1a2_cov = \", a1a2_cov)"
   ]
  },
  {
   "cell_type": "code",
   "execution_count": null,
   "id": "atomic-impression",
   "metadata": {},
   "outputs": [],
   "source": [
    "C1 = C2 = my_eps\n",
    "ssim_t1 = 2 * a1_mu * a2_mu + C1\n",
    "ssim_b1 = a1_mu * a1_mu + a2_mu * a2_mu + C1\n",
    "ssim_t2 = 2 * a1a2_cov + C2\n",
    "ssim_b2 = a1_std_sq + a2_std_sq + C2\n",
    "print(\"ssim_t1 = \", ssim_t1)\n",
    "print(\"ssim_b1 = \", ssim_b1)\n",
    "print(\"ssim_t2 = \", ssim_t2)\n",
    "print(\"ssim_b2 = \", ssim_b2)"
   ]
  },
  {
   "cell_type": "code",
   "execution_count": null,
   "id": "proved-seating",
   "metadata": {},
   "outputs": [],
   "source": [
    "ssim_1 = ssim_t1 / ssim_b1\n",
    "ssim_2 = ssim_t2 / ssim_b2\n",
    "print(\"ssim_1 = \", ssim_1)\n",
    "print(\"ssim_2 = \", ssim_2)\n",
    "s = ssim_1 * ssim_2\n",
    "print(\"s = \", s)"
   ]
  },
  {
   "cell_type": "code",
   "execution_count": null,
   "id": "swedish-chain",
   "metadata": {},
   "outputs": [],
   "source": [
    "print(c12_ssim[ind])"
   ]
  },
  {
   "cell_type": "code",
   "execution_count": null,
   "id": "early-medium",
   "metadata": {},
   "outputs": [],
   "source": [
    "a2_win"
   ]
  },
  {
   "cell_type": "code",
   "execution_count": null,
   "id": "mineral-award",
   "metadata": {},
   "outputs": [],
   "source": []
  },
  {
   "cell_type": "code",
   "execution_count": null,
   "id": "allied-agenda",
   "metadata": {},
   "outputs": [],
   "source": [
    "a1_win"
   ]
  },
  {
   "cell_type": "code",
   "execution_count": null,
   "id": "breathing-literacy",
   "metadata": {},
   "outputs": [],
   "source": [
    "c12_orig[8:19, 21:32]"
   ]
  },
  {
   "cell_type": "code",
   "execution_count": null,
   "id": "banned-necessity",
   "metadata": {},
   "outputs": [],
   "source": [
    "c12_comp[8:19, 21:32]"
   ]
  },
  {
   "cell_type": "code",
   "execution_count": null,
   "id": "suffering-division",
   "metadata": {},
   "outputs": [],
   "source": []
  },
  {
   "cell_type": "code",
   "execution_count": null,
   "id": "leading-project",
   "metadata": {},
   "outputs": [],
   "source": []
  },
  {
   "cell_type": "code",
   "execution_count": 9,
   "id": "smaller-flashing",
   "metadata": {},
   "outputs": [
    {
     "name": "stdout",
     "output_type": "stream",
     "text": [
      "dataset size in GB 0.05\n",
      "\n"
     ]
    }
   ],
   "source": [
    "prect_col = ldcpy.open_datasets([\"PRECT\"],\n",
    "    [\"../../../data/cam-fv/orig.PRECT.60days.nc\",\n",
    "     \"../../../data/cam-fv/zfp1e-7.PRECT.60days.nc\",\n",
    "    \"../../../data/cam-fv/zfp1e-9.PRECT.60days.nc\",\n",
    "     \"../../../data/cam-fv/zfp1e-11.PRECT.60days.nc\"],\n",
    "     [ \"orig\",\"zfp1e-7\", \"zfp1e-9\", \"zfp1e-11\"],)\n"
   ]
  },
  {
   "cell_type": "code",
   "execution_count": 10,
   "id": "separate-relay",
   "metadata": {},
   "outputs": [],
   "source": [
    "p_orig = prect_col[\"PRECT\"].sel(collection=\"orig\").isel(time=0).compute()\n",
    "p_comp = prect_col[\"PRECT\"].sel(collection=\"zfp1e-9\").isel(time=0).compute()\n",
    "p_differ = ldcpy.calcs.Diffcalcs(p_orig, p_comp)"
   ]
  },
  {
   "cell_type": "code",
   "execution_count": 11,
   "id": "treated-treasury",
   "metadata": {},
   "outputs": [
    {
     "name": "stdout",
     "output_type": "stream",
     "text": [
      "CPU times: user 36.4 ms, sys: 2.81 ms, total: 39.2 ms\n",
      "Wall time: 38.3 ms\n"
     ]
    },
    {
     "data": {
      "text/plain": [
       "0.9941115324334332"
      ]
     },
     "execution_count": 11,
     "metadata": {},
     "output_type": "execute_result"
    }
   ],
   "source": [
    "%%time\n",
    "sfp = p_differ.get_diff_calc('ssim_fp')\n",
    "sfp"
   ]
  },
  {
   "cell_type": "code",
   "execution_count": 12,
   "id": "rural-diana",
   "metadata": {},
   "outputs": [
    {
     "name": "stdout",
     "output_type": "stream",
     "text": [
      "CPU times: user 37 ms, sys: 1.53 ms, total: 38.5 ms\n",
      "Wall time: 37.5 ms\n"
     ]
    },
    {
     "data": {
      "text/plain": [
       "0.992536228442089"
      ]
     },
     "execution_count": 12,
     "metadata": {},
     "output_type": "execute_result"
    }
   ],
   "source": [
    "%%time\n",
    "sfp = p_differ.get_diff_calc('ssim_fp_fast2')\n",
    "sfp"
   ]
  },
  {
   "cell_type": "code",
   "execution_count": 13,
   "id": "forced-visitor",
   "metadata": {},
   "outputs": [
    {
     "data": {
      "image/png": "[encoded data removed]",
      "text/plain": [
       "<Figure size 432x288 with 2 Axes>"
      ]
     },
     "metadata": {
      "needs_background": "light"
     },
     "output_type": "display_data"
    }
   ],
   "source": [
    "p_ssim_mat = p_differ.plot_ssim_mat(ssim_type = \"ssim_fp_fast2\", return_mat = True)\n",
    "p_ssim_mat = p_ssim_mat[0]"
   ]
  },
  {
   "cell_type": "code",
   "execution_count": 14,
   "id": "interstate-nepal",
   "metadata": {},
   "outputs": [
    {
     "data": {
      "text/plain": [
       "-3.785607386823e-10"
      ]
     },
     "execution_count": 14,
     "metadata": {},
     "output_type": "execute_result"
    }
   ],
   "source": [
    "indp = (155,233)\n",
    "p_ssim_mat[indp]"
   ]
  },
  {
   "cell_type": "code",
   "execution_count": 357,
   "id": "guilty-wales",
   "metadata": {},
   "outputs": [
    {
     "name": "stdout",
     "output_type": "stream",
     "text": [
      "smin =  -3.055902197957039e-10  smax =  1.1832380550913513e-06  r=  1.183543645311147e-06\n"
     ]
    }
   ],
   "source": [
    "import numpy as np\n",
    "from math import exp, pi, sqrt\n",
    "\n",
    "p_a1 = p_orig.data\n",
    "p_a2 = p_comp.data\n",
    "p_a1 = p_a1.astype('float64')\n",
    "p_a2 = p_a2.astype('float64')\n",
    "smin = min(np.nanmin(p_a1), np.nanmin(p_a2))\n",
    "smax = max(np.nanmax(p_a1), np.nanmax(p_a2))\n",
    "r = smax - smin\n",
    "print(\"smin = \", smin, \" smax = \", smax, \" r= \", r)\n",
    "p_sc_a1 = (p_a1 - smin) / r\n",
    "p_sc_a2 = (p_a2 - smin) / r\n",
    "p_sc_a1 = np.round(p_sc_a1 * 255) / 255\n",
    "p_sc_a2 = np.round(p_sc_a2 * 255) / 255"
   ]
  },
  {
   "cell_type": "code",
   "execution_count": 358,
   "id": "boring-recording",
   "metadata": {},
   "outputs": [],
   "source": [
    "my_eps = 1.0e-8\n",
    "sigma = 1.5\n",
    "n=11\n",
    "k=5\n",
    "def oned_gauss(n, sigma):\n",
    "        r = range(-int(n / 2), int(n / 2) + 1)\n",
    "        return [(1 / (sigma * sqrt(2 * pi))) * exp(-float(x) ** 2 / (2 * sigma ** 2)) for x in r]\n",
    "g_w = np.array(oned_gauss(n, sigma))\n",
    "gg_w = np.outer(g_w, g_w)\n"
   ]
  },
  {
   "cell_type": "code",
   "execution_count": 359,
   "id": "editorial-millennium",
   "metadata": {},
   "outputs": [],
   "source": [
    "p_a1_win = p_sc_a1[150:161, 228:239]\n",
    "p_a2_win = p_sc_a2[150:161, 228:239]\n",
    "Wt = gg_w"
   ]
  },
  {
   "cell_type": "code",
   "execution_count": 360,
   "id": "statistical-terminal",
   "metadata": {},
   "outputs": [
    {
     "name": "stdout",
     "output_type": "stream",
     "text": [
      "a1_mu =  4.6901021215831416e-05\n",
      "a2_mu =  4.147316071189261e-09\n",
      "a1_std_sq =  1.8172586760432944e-07\n",
      "a2_std_sq =  1.626396739266847e-11\n",
      "a1a2_cov =  -1.9451335904360611e-13\n"
     ]
    }
   ],
   "source": [
    "p_indices1 = ~np.isnan(p_a1_win)\n",
    "p_indices2 = ~np.isnan(p_a2_win)\n",
    "a1_mu = np.average(p_a1_win[p_indices1], weights=Wt[p_indices1])\n",
    "a2_mu = np.average(p_a2_win[p_indices2], weights=Wt[p_indices2])\n",
    "a1_std_sq = (\n",
    "                            np.average((p_a1_win[p_indices1] * p_a1_win[p_indices1]), weights=Wt[p_indices1])\n",
    "                            - a1_mu * a1_mu\n",
    "                        )\n",
    "a2_std_sq = (\n",
    "                            np.average((p_a2_win[p_indices2] * p_a2_win[p_indices2]), weights=Wt[p_indices2])\n",
    "                            - a2_mu * a2_mu\n",
    "                        )\n",
    "a1a2_cov = (\n",
    "                            np.average(\n",
    "                                (p_a1_win[p_indices1] * p_a2_win[p_indices2]),\n",
    "                                weights=Wt[p_indices1],\n",
    "                            )\n",
    "                            - a1_mu * a2_mu\n",
    "                        )\n",
    "print(\"a1_mu = \", a1_mu)\n",
    "print(\"a2_mu = \", a2_mu)\n",
    "print(\"a1_std_sq = \", a1_std_sq)\n",
    "print(\"a2_std_sq = \", a2_std_sq)\n",
    "print(\"a1a2_cov = \", a1a2_cov)"
   ]
  },
  {
   "cell_type": "code",
   "execution_count": 361,
   "id": "independent-ticket",
   "metadata": {},
   "outputs": [
    {
     "name": "stdout",
     "output_type": "stream",
     "text": [
      "ssim_t1 =  1.0000389026718088e-08\n",
      "ssim_b1 =  1.21997058082881e-08\n",
      "ssim_t2 =  9.999610973281913e-09\n",
      "ssim_b2 =  1.9174213157172212e-07\n"
     ]
    }
   ],
   "source": [
    "C1 = C2 = 1e-8\n",
    "ssim_t1 = 2 * a1_mu * a2_mu + C1\n",
    "ssim_b1 = a1_mu * a1_mu + a2_mu * a2_mu + C1\n",
    "ssim_t2 = 2 * a1a2_cov + C2\n",
    "ssim_b2 = a1_std_sq + a2_std_sq + C2\n",
    "print(\"ssim_t1 = \", ssim_t1)\n",
    "print(\"ssim_b1 = \", ssim_b1)\n",
    "print(\"ssim_t2 = \", ssim_t2)\n",
    "print(\"ssim_b2 = \", ssim_b2)"
   ]
  },
  {
   "cell_type": "code",
   "execution_count": 362,
   "id": "italian-drunk",
   "metadata": {},
   "outputs": [
    {
     "name": "stdout",
     "output_type": "stream",
     "text": [
      "ssim_1 =  0.8197237854640834\n",
      "ssim_2 =  0.05215134979106826\n",
      "s =  0.04274970186779601\n"
     ]
    }
   ],
   "source": [
    "ssim_1 = ssim_t1 / ssim_b1\n",
    "ssim_2 = ssim_t2 / ssim_b2\n",
    "print(\"ssim_1 = \", ssim_1)\n",
    "print(\"ssim_2 = \", ssim_2)\n",
    "s = ssim_1 * ssim_2\n",
    "print(\"s = \", s)"
   ]
  },
  {
   "cell_type": "code",
   "execution_count": 133,
   "id": "arranged-possibility",
   "metadata": {},
   "outputs": [
    {
     "data": {
      "text/plain": [
       "0.00392156862745098"
      ]
     },
     "execution_count": 133,
     "metadata": {},
     "output_type": "execute_result"
    }
   ],
   "source": [
    "np.min(p_sc_a1[np.nonzero(p_sc_a1)])\n"
   ]
  },
  {
   "cell_type": "code",
   "execution_count": 135,
   "id": "olive-extra",
   "metadata": {},
   "outputs": [
    {
     "data": {
      "text/plain": [
       "array([[0.        , 0.        , 0.        , 0.        , 0.        ,\n",
       "        0.        , 0.        , 0.        , 0.        , 0.        ,\n",
       "        0.        ],\n",
       "       [0.        , 0.        , 0.        , 0.        , 0.        ,\n",
       "        0.        , 0.        , 0.        , 0.        , 0.        ,\n",
       "        0.        ],\n",
       "       [0.        , 0.        , 0.        , 0.        , 0.        ,\n",
       "        0.        , 0.        , 0.        , 0.        , 0.        ,\n",
       "        0.        ],\n",
       "       [0.        , 0.        , 0.        , 0.        , 0.        ,\n",
       "        0.        , 0.        , 0.        , 0.        , 0.        ,\n",
       "        0.        ],\n",
       "       [0.        , 0.        , 0.        , 0.        , 0.        ,\n",
       "        0.        , 0.        , 0.        , 0.        , 0.        ,\n",
       "        0.        ],\n",
       "       [0.        , 0.        , 0.        , 0.        , 0.        ,\n",
       "        0.        , 0.        , 0.        , 0.        , 0.        ,\n",
       "        0.        ],\n",
       "       [0.        , 0.        , 0.        , 0.        , 0.        ,\n",
       "        0.        , 0.        , 0.        , 0.        , 0.        ,\n",
       "        0.        ],\n",
       "       [0.        , 0.        , 0.        , 0.        , 0.        ,\n",
       "        0.        , 0.        , 0.        , 0.        , 0.        ,\n",
       "        0.        ],\n",
       "       [0.        , 0.        , 0.        , 0.        , 0.        ,\n",
       "        0.        , 0.        , 0.        , 0.        , 0.        ,\n",
       "        0.        ],\n",
       "       [0.        , 0.        , 0.        , 0.        , 0.        ,\n",
       "        0.        , 0.        , 0.        , 0.        , 0.        ,\n",
       "        0.        ],\n",
       "       [0.        , 0.        , 0.        , 0.        , 0.        ,\n",
       "        0.        , 0.        , 0.        , 0.        , 0.        ,\n",
       "        0.00392157]])"
      ]
     },
     "execution_count": 135,
     "metadata": {},
     "output_type": "execute_result"
    }
   ],
   "source": [
    "p_a2_win"
   ]
  },
  {
   "cell_type": "code",
   "execution_count": 139,
   "id": "arranged-platinum",
   "metadata": {},
   "outputs": [
    {
     "data": {
      "text/plain": [
       "3.2409658078107274e-05"
      ]
     },
     "execution_count": 139,
     "metadata": {},
     "output_type": "execute_result"
    }
   ],
   "source": [
    "p_a2_win.mean()"
   ]
  },
  {
   "cell_type": "code",
   "execution_count": 17,
   "id": "seasonal-salon",
   "metadata": {},
   "outputs": [
    {
     "name": "stdout",
     "output_type": "stream",
     "text": [
      "0\n"
     ]
    }
   ],
   "source": [
    "for i in range (1):\n",
    "    print(i)"
   ]
  },
  {
   "cell_type": "code",
   "execution_count": null,
   "id": "hundred-reaction",
   "metadata": {},
   "outputs": [],
   "source": []
  },
  {
   "cell_type": "code",
   "execution_count": null,
   "id": "incoming-harbor",
   "metadata": {},
   "outputs": [],
   "source": []
  }
 ],
 "metadata": {
  "kernelspec": {
   "display_name": "Python 3 (ipykernel)",
   "language": "python",
   "name": "python3"
  },
  "language_info": {
   "codemirror_mode": {
    "name": "ipython",
    "version": 3
   },
   "file_extension": ".py",
   "mimetype": "text/x-python",
   "name": "python",
   "nbconvert_exporter": "python",
   "pygments_lexer": "ipython3",
   "version": "3.9.12"
  }
 },
 "nbformat": 4,
 "nbformat_minor": 5
}
