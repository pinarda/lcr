{
 "cells": [
  {
   "cell_type": "code",
   "execution_count": 1,
   "metadata": {},
   "outputs": [],
   "source": [
    "# Add ldcpy root to system path\n",
    "import sys\n",
    "sys.path.insert(0,'../../../')\n",
    "                    \n",
    "# Import ldcpy package\n",
    "# Autoreloads package everytime the package is called, so changes to code will be reflected in the notebook if the above sys.path.insert(...) line is uncommented.\n",
    "%load_ext autoreload\n",
    "%autoreload 2\n",
    "import ldcpy\n",
    "\n",
    "#display the plots in this notebook\n",
    "%matplotlib inline"
   ]
  },
  {
   "cell_type": "code",
   "execution_count": 2,
   "metadata": {
    "scrolled": true
   },
   "outputs": [
    {
     "name": "stdout",
     "output_type": "stream",
     "text": [
      "dataset size in GB 0.09\n",
      "\n",
      "dataset size in GB 0.05\n",
      "\n",
      "dataset size in GB 0.04\n",
      "\n",
      "dataset size in GB 0.00\n",
      "\n"
     ]
    }
   ],
   "source": [
    "# ts_col contains TS data\n",
    "ts_col = ldcpy.open_datasets([\"TS\"],['../../../data/cam-fv/orig.TS.100days.nc', \n",
    "                                 '../../../data/cam-fv/zfp1.0.TS.100days.nc', \n",
    "                                 '../../../data/cam-fv/zfp1e-1.TS.100days.nc',\n",
    "                                    '../../../data/cam-fv/zfp1e-3.TS.100days.nc'],\n",
    "                         ['orig', 'zfp1.0', 'zfp1e-1', 'zfp1e-3'])\n",
    "# prect_col contains PRECT data\n",
    "prect_col = ldcpy.open_datasets([\"PRECT\"],['../../../data/cam-fv/orig.PRECT.60days.nc', \n",
    "                                     '../../../data/cam-fv/zfp1e-7.PRECT.60days.nc', \n",
    "                                    '../../../data/cam-fv/zfp1e-9.PRECT.60days.nc', \n",
    "                                     '../../../data/cam-fv/zfp1e-11.PRECT.60days.nc'],\n",
    "                         ['orig', 'zfp1e-7', 'zfp1e-9', 'zfp1e-11'])\n",
    "# col_ds3 contains 3D T data (here we specify the chunk to be a single timeslice)\n",
    "t_col = ldcpy.open_datasets(\n",
    "    [\"T\"],\n",
    "    [\n",
    "        \"../../../data/cam-fv/cam-fv.T.3months.nc\",\n",
    "        \"../../../data/cam-fv/c.fpzip.cam-fv.T.3months.nc\",\n",
    "    ],\n",
    "    [\"orig\", \"comp\"]\n",
    ")\n",
    "precsc_col = ldcpy.open_datasets([\"PRECSC\"], \n",
    "               [\"/Users/abaker/alli/scratch/precsc.orig.nc\",\"/Users/abaker/alli/scratch/t10.b.e11.BRCP85C5CNBDRD.f09_g16.031.cam.h1.PRECSC.20060101-20801231.nc\"\n",
    "               ], [\"orig\", \"comp\"])\n"
   ]
  },
  {
   "cell_type": "code",
   "execution_count": 4,
   "metadata": {},
   "outputs": [],
   "source": [
    "tso = ts_col.TS.sel(collection=\"orig\").isel(time=1)\n",
    "tsz = ts_col.TS.sel(collection=\"zfp1.0\").isel(time=1)\n",
    "so_d = tso.data.compute()\n",
    "tsz_d = tsz.data.compute()"
   ]
  },
  {
   "cell_type": "code",
   "execution_count": 337,
   "metadata": {},
   "outputs": [
    {
     "data": {
      "text/plain": [
       "0.8748169889982416"
      ]
     },
     "execution_count": 337,
     "metadata": {},
     "output_type": "execute_result"
    }
   ],
   "source": [
    "from skimage.metrics import structural_similarity as ssim\n",
    "maxr = max(tso_d.max(), tsz_d.max())\n",
    "minr = min(tso_d.min(), tsz_d.min())\n",
    "myrange = maxr-minr\n",
    "sog = ssim(tso_d, tsz_d, K1=1e-15, K2 = 1e-15, multichannel=False, data_range=myrange, gaussian_weights=True,use_sample_covariance=False)\n",
    "sog"
   ]
  },
  {
   "cell_type": "code",
   "execution_count": 307,
   "metadata": {},
   "outputs": [
    {
     "data": {
      "text/plain": [
       "0.9956937317280954"
      ]
     },
     "execution_count": 307,
     "metadata": {},
     "output_type": "execute_result"
    }
   ],
   "source": [
    "from skimage.metrics import structural_similarity as ssim\n",
    "maxr = max(tso_d.max(), tsz_d.max())\n",
    "minr = min(tso_d.min(), tsz_d.min())\n",
    "myrange = maxr-minr\n",
    "sc_o = (tso_d - minr)/myrange\n",
    "sc_z = (tsz_d - minr)/myrange\n",
    "sog = ssim(sc_o, sc_z, K1=1e-15, K2 = 1e-15, multichannel=False, data_range=1.0, gaussian_weights=True,use_sample_covariance=False)\n",
    "sog"
   ]
  },
  {
   "cell_type": "code",
   "execution_count": 343,
   "metadata": {},
   "outputs": [
    {
     "name": "stdout",
     "output_type": "stream",
     "text": [
      "0.9809314180354818\n",
      "0.9984370498556349\n",
      "0.9996643775728832\n"
     ]
    }
   ],
   "source": [
    "\n",
    "dm = ldcpy.metrics.DiffMetrics(tso.compute(), tsz.compute(), aggregate_dims=['lat', 'lon'])\n",
    "ssim_fp = dm.get_diff_metric('ssim_fp')\n",
    "ssim_o = dm.get_diff_metric('ssim')\n",
    "ssim_fp_old = dm.get_diff_metric('ssim_fp_old')\n",
    "\n",
    "print(ssim_fp)\n",
    "print(ssim_o)\n",
    "print(ssim_fp_old)"
   ]
  },
  {
   "cell_type": "code",
   "execution_count": 324,
   "metadata": {},
   "outputs": [
    {
     "data": {
      "text/plain": [
       "0.981803814603496"
      ]
     },
     "execution_count": 324,
     "metadata": {},
     "output_type": "execute_result"
    }
   ],
   "source": [
    "from skimage.metrics import structural_similarity as ssim\n",
    "import skimage\n",
    "to = skimage.img_as_ubyte(sc_o)/255\n",
    "tz = skimage.img_as_ubyte(sc_z)/255\n",
    "\n",
    "test = ssim(to, tz, K1=1e-15, K2 = 1e-15, multichannel=False, data_range=1.0, gaussian_weights=True,use_sample_covariance=False)\n",
    "test"
   ]
  },
  {
   "cell_type": "code",
   "execution_count": 311,
   "metadata": {},
   "outputs": [
    {
     "data": {
      "text/plain": [
       "0.9956937334057131"
      ]
     },
     "execution_count": 311,
     "metadata": {},
     "output_type": "execute_result"
    }
   ],
   "source": [
    "to = sc_o*255\n",
    "tz = sc_z*255\n",
    "ro = np.round(to)/255\n",
    "rz = np.round(tz)/255\n",
    "test = ssim(to, tz, K1=1e-15, K2 = 1e-15, multichannel=False, data_range=1.0, gaussian_weights=True,use_sample_covariance=False)\n",
    "test"
   ]
  },
  {
   "cell_type": "code",
   "execution_count": 346,
   "metadata": {},
   "outputs": [],
   "source": [
    "po = precsc_col.PRECSC.sel(collection=\"orig\").isel(time=0)\n",
    "pz = precsc_col.PRECSC.sel(collection=\"comp\").isel(time=0)\n",
    "po_d = po.data.compute()\n",
    "pz_d = pz.data.compute()"
   ]
  },
  {
   "cell_type": "code",
   "execution_count": 347,
   "metadata": {},
   "outputs": [
    {
     "name": "stdout",
     "output_type": "stream",
     "text": [
      "0.9999767059347989\n",
      "0.9999999595814616\n",
      "0.9999999741322456\n"
     ]
    }
   ],
   "source": [
    "dm = ldcpy.metrics.DiffMetrics(po.compute(), pz.compute(), aggregate_dims=['lat', 'lon'])\n",
    "ssim_fp = dm.get_diff_metric('ssim_fp')\n",
    "ssim = dm.get_diff_metric('ssim')\n",
    "ssim_fp_old = dm.get_diff_metric('ssim_fp_old')\n",
    "print(ssim_fp)\n",
    "print(ssim)\n",
    "print(ssim_fp_old)"
   ]
  },
  {
   "cell_type": "code",
   "execution_count": 314,
   "metadata": {},
   "outputs": [
    {
     "data": {
      "text/plain": [
       "0.9919888401297736"
      ]
     },
     "execution_count": 314,
     "metadata": {},
     "output_type": "execute_result"
    }
   ],
   "source": [
    "from skimage.metrics import structural_similarity as ssim\n",
    "maxr = max(po_d.max(), pz_d.max())\n",
    "minr = min(po_d.min(), pz_d.min())\n",
    "myrange = maxr-minr\n",
    "sc_po = (po_d - minr)/myrange\n",
    "sc_pz = (pz_d - minr)/myrange\n",
    "sog = ssim(sc_po, sc_pz, K1=1e-15, K2 = 1e-15, multichannel=False, data_range=1.0, gaussian_weights=True,use_sample_covariance=False)\n",
    "sog"
   ]
  },
  {
   "cell_type": "code",
   "execution_count": 315,
   "metadata": {},
   "outputs": [
    {
     "data": {
      "text/plain": [
       "0.9999745202678167"
      ]
     },
     "execution_count": 315,
     "metadata": {},
     "output_type": "execute_result"
    }
   ],
   "source": [
    "tpo = sc_po*255\n",
    "tpz = sc_pz*255\n",
    "rpo = np.round(tpo)/255\n",
    "rpz = np.round(tpz)/255\n",
    "test = ssim(rpo, rpz, K1=1e-15, K2 = 1e-15, multichannel=False, data_range=1.0, gaussian_weights=True,use_sample_covariance=False)\n",
    "test\n",
    "\n"
   ]
  },
  {
   "cell_type": "code",
   "execution_count": 284,
   "metadata": {},
   "outputs": [
    {
     "data": {
      "text/plain": [
       "0.9999745202674839"
      ]
     },
     "execution_count": 284,
     "metadata": {},
     "output_type": "execute_result"
    }
   ],
   "source": []
  },
  {
   "cell_type": "code",
   "execution_count": 266,
   "metadata": {},
   "outputs": [
    {
     "name": "stdout",
     "output_type": "stream",
     "text": [
      " \n",
      "mean orig                          : 3.207e-11\n",
      "mean comp                          : 3.208e-11\n",
      "mean diff                          : -1.255e-14\n",
      " \n",
      "variance orig                      : 2.427e-19\n",
      "variance comp                      : 2.427e-19\n",
      " \n",
      "standard deviation orig            : 4.926e-10\n",
      "standard deviation comp            : 4.927e-10\n",
      " \n",
      "max value orig                     : 3.064e-08\n",
      "max value comp                     : 3.059e-08\n",
      "min value orig                     : 0\n",
      "min value comp                     : -2.91e-11\n",
      " \n",
      "max abs diff                       : 5.242e-11\n",
      "min abs diff                       : 0\n",
      "mean abs diff                      : 4.477e-14\n",
      "mean squared diff                  : 1.574e-28\n",
      "root mean squared diff             : 7.266e-13\n",
      "normalized root mean squared diff  : 2.371e-05\n",
      "normalized max pointwise error     : 0.001711\n",
      "pearson correlation coefficient    : 1\n",
      "ks p-value                         : 0.1259\n",
      "spatial relative error(% > 0.0001) : 2.897\n",
      "max spatial relative error         : 2.111e+17\n",
      "ssim                               : 1\n",
      "ssim_fp                            : 0.9955\n",
      "ssim_fp_old                        : 1\n"
     ]
    }
   ],
   "source": [
    "ds1 = precsc_col.isel(time=1)\n",
    "ldcpy.compare_stats(ds1, \"PRECSC\", \"orig\",\"comp\", significant_digits=4)"
   ]
  },
  {
   "cell_type": "code",
   "execution_count": 267,
   "metadata": {},
   "outputs": [
    {
     "name": "stdout",
     "output_type": "stream",
     "text": [
      " \n",
      "mean orig                          : 1.9429568e-11\n",
      "mean comp                          : 1.9437816e-11\n",
      "mean diff                          : -8.2476373e-15\n",
      " \n",
      "variance orig                      : 3.6298469e-19\n",
      "variance comp                      : 3.6294346e-19\n",
      " \n",
      "standard deviation orig            : 6.0248755e-10\n",
      "standard deviation comp            : 6.0245333e-10\n",
      " \n",
      "max value orig                     : 6.0717383e-08\n",
      "max value comp                     : 6.0594175e-08\n",
      "min value orig                     : 0\n",
      "min value comp                     : -5.8207661e-11\n",
      " \n",
      "max abs diff                       : 1.2320811e-10\n",
      "min abs diff                       : 0\n",
      "mean abs diff                      : 3.8053669e-14\n",
      "mean squared diff                  : 6.8023521e-29\n",
      "root mean squared diff             : 1.0342062e-12\n",
      "normalized root mean squared diff  : 1.7033115e-05\n",
      "normalized max pointwise error     : 0.0020292065\n",
      "pearson correlation coefficient    : 0.99999853\n",
      "ks p-value                         : 0.9999991\n",
      "spatial relative error(% > 0.0001) : 0.32371238\n",
      "max spatial relative error         : 1\n",
      "ssim                               : 0.99999996\n",
      "ssim_fp                            : 0.992989\n",
      "ssim_fp_old                        : 0.99999997\n"
     ]
    }
   ],
   "source": [
    "ds0 = precsc_col.isel(time=0)\n",
    "ldcpy.compare_stats(ds0, \"PRECSC\", \"orig\",\"comp\", significant_digits=8)"
   ]
  },
  {
   "cell_type": "code",
   "execution_count": 375,
   "metadata": {},
   "outputs": [],
   "source": [
    "p_orig = precsc_col[\"PRECSC\"].sel(collection=\"orig\").isel(time=1).compute()\n",
    "p_zfp = precsc_col[\"PRECSC\"].sel(collection=\"comp\").isel(time=1).compute()\n",
    "\n",
    "dm = ldcpy.metrics.DiffMetrics(p_orig, p_zfp, aggregate_dims=['lat', 'lon'])\n",
    "#ssim = dm.get_diff_metric('ssim')\n",
    "ssim_fp = dm.get_diff_metric('ssim_fp')\n",
    "ssim_fp_old = dm.get_diff_metric('ssim_fp_old')\n"
   ]
  },
  {
   "cell_type": "code",
   "execution_count": 376,
   "metadata": {},
   "outputs": [
    {
     "name": "stdout",
     "output_type": "stream",
     "text": [
      "ssim =  0.9999992221197553\n",
      "ssim_fp =  0.9999961340087538\n",
      "ssim_fp_old =  0.9999999540951813\n"
     ]
    }
   ],
   "source": [
    "print('ssim = ', ssim)\n",
    "print('ssim_fp = ', ssim_fp)\n",
    "print('ssim_fp_old = ', ssim_fp_old)"
   ]
  },
  {
   "cell_type": "code",
   "execution_count": 377,
   "metadata": {},
   "outputs": [],
   "source": [
    "t_orig = t_col[\"T\"].sel(collection=\"orig\").isel(time=0).compute()\n",
    "t_zfp = t_col[\"T\"].sel(collection=\"comp\").isel(time=0).compute()\n",
    "\n",
    "t_dm = ldcpy.metrics.DiffMetrics(t_orig, t_zfp, aggregate_dims=['lat', 'lon'])\n",
    "t_ssim = t_dm.get_diff_metric('ssim')\n",
    "t_ssim_fp = t_dm.get_diff_metric('ssim_fp')\n",
    "t_ssim_fp_old = t_dm.get_diff_metric('ssim_fp_old')"
   ]
  },
  {
   "cell_type": "code",
   "execution_count": 378,
   "metadata": {},
   "outputs": [
    {
     "name": "stdout",
     "output_type": "stream",
     "text": [
      "ssim =  0.9995286004372378\n",
      "ssim_fp =  0.929348380004136\n",
      "ssim_fp_old =  0.9998964778020601\n"
     ]
    }
   ],
   "source": [
    "print('ssim = ', t_ssim)\n",
    "print('ssim_fp = ', t_ssim_fp)\n",
    "print('ssim_fp_old = ', t_ssim_fp_old)"
   ]
  },
  {
   "cell_type": "code",
   "execution_count": 54,
   "metadata": {},
   "outputs": [
    {
     "data": {
      "text/html": [
       "<div><svg style=\"position: absolute; width: 0; height: 0; overflow: hidden\">\n",
       "<defs>\n",
       "<symbol id=\"icon-database\" viewBox=\"0 0 32 32\">\n",
       "<path d=\"M16 0c-8.837 0-16 2.239-16 5v4c0 2.761 7.163 5 16 5s16-2.239 16-5v-4c0-2.761-7.163-5-16-5z\"></path>\n",
       "<path d=\"M16 17c-8.837 0-16-2.239-16-5v6c0 2.761 7.163 5 16 5s16-2.239 16-5v-6c0 2.761-7.163 5-16 5z\"></path>\n",
       "<path d=\"M16 26c-8.837 0-16-2.239-16-5v6c0 2.761 7.163 5 16 5s16-2.239 16-5v-6c0 2.761-7.163 5-16 5z\"></path>\n",
       "</symbol>\n",
       "<symbol id=\"icon-file-text2\" viewBox=\"0 0 32 32\">\n",
       "<path d=\"M28.681 7.159c-0.694-0.947-1.662-2.053-2.724-3.116s-2.169-2.030-3.116-2.724c-1.612-1.182-2.393-1.319-2.841-1.319h-15.5c-1.378 0-2.5 1.121-2.5 2.5v27c0 1.378 1.122 2.5 2.5 2.5h23c1.378 0 2.5-1.122 2.5-2.5v-19.5c0-0.448-0.137-1.23-1.319-2.841zM24.543 5.457c0.959 0.959 1.712 1.825 2.268 2.543h-4.811v-4.811c0.718 0.556 1.584 1.309 2.543 2.268zM28 29.5c0 0.271-0.229 0.5-0.5 0.5h-23c-0.271 0-0.5-0.229-0.5-0.5v-27c0-0.271 0.229-0.5 0.5-0.5 0 0 15.499-0 15.5 0v7c0 0.552 0.448 1 1 1h7v19.5z\"></path>\n",
       "<path d=\"M23 26h-14c-0.552 0-1-0.448-1-1s0.448-1 1-1h14c0.552 0 1 0.448 1 1s-0.448 1-1 1z\"></path>\n",
       "<path d=\"M23 22h-14c-0.552 0-1-0.448-1-1s0.448-1 1-1h14c0.552 0 1 0.448 1 1s-0.448 1-1 1z\"></path>\n",
       "<path d=\"M23 18h-14c-0.552 0-1-0.448-1-1s0.448-1 1-1h14c0.552 0 1 0.448 1 1s-0.448 1-1 1z\"></path>\n",
       "</symbol>\n",
       "</defs>\n",
       "</svg>\n",
       "<style>/* CSS stylesheet for displaying xarray objects in jupyterlab.\n",
       " *\n",
       " */\n",
       "\n",
       ":root {\n",
       "  --xr-font-color0: var(--jp-content-font-color0, rgba(0, 0, 0, 1));\n",
       "  --xr-font-color2: var(--jp-content-font-color2, rgba(0, 0, 0, 0.54));\n",
       "  --xr-font-color3: var(--jp-content-font-color3, rgba(0, 0, 0, 0.38));\n",
       "  --xr-border-color: var(--jp-border-color2, #e0e0e0);\n",
       "  --xr-disabled-color: var(--jp-layout-color3, #bdbdbd);\n",
       "  --xr-background-color: var(--jp-layout-color0, white);\n",
       "  --xr-background-color-row-even: var(--jp-layout-color1, white);\n",
       "  --xr-background-color-row-odd: var(--jp-layout-color2, #eeeeee);\n",
       "}\n",
       "\n",
       "html[theme=dark],\n",
       "body.vscode-dark {\n",
       "  --xr-font-color0: rgba(255, 255, 255, 1);\n",
       "  --xr-font-color2: rgba(255, 255, 255, 0.54);\n",
       "  --xr-font-color3: rgba(255, 255, 255, 0.38);\n",
       "  --xr-border-color: #1F1F1F;\n",
       "  --xr-disabled-color: #515151;\n",
       "  --xr-background-color: #111111;\n",
       "  --xr-background-color-row-even: #111111;\n",
       "  --xr-background-color-row-odd: #313131;\n",
       "}\n",
       "\n",
       ".xr-wrap {\n",
       "  display: block;\n",
       "  min-width: 300px;\n",
       "  max-width: 700px;\n",
       "}\n",
       "\n",
       ".xr-text-repr-fallback {\n",
       "  /* fallback to plain text repr when CSS is not injected (untrusted notebook) */\n",
       "  display: none;\n",
       "}\n",
       "\n",
       ".xr-header {\n",
       "  padding-top: 6px;\n",
       "  padding-bottom: 6px;\n",
       "  margin-bottom: 4px;\n",
       "  border-bottom: solid 1px var(--xr-border-color);\n",
       "}\n",
       "\n",
       ".xr-header > div,\n",
       ".xr-header > ul {\n",
       "  display: inline;\n",
       "  margin-top: 0;\n",
       "  margin-bottom: 0;\n",
       "}\n",
       "\n",
       ".xr-obj-type,\n",
       ".xr-array-name {\n",
       "  margin-left: 2px;\n",
       "  margin-right: 10px;\n",
       "}\n",
       "\n",
       ".xr-obj-type {\n",
       "  color: var(--xr-font-color2);\n",
       "}\n",
       "\n",
       ".xr-sections {\n",
       "  padding-left: 0 !important;\n",
       "  display: grid;\n",
       "  grid-template-columns: 150px auto auto 1fr 20px 20px;\n",
       "}\n",
       "\n",
       ".xr-section-item {\n",
       "  display: contents;\n",
       "}\n",
       "\n",
       ".xr-section-item input {\n",
       "  display: none;\n",
       "}\n",
       "\n",
       ".xr-section-item input + label {\n",
       "  color: var(--xr-disabled-color);\n",
       "}\n",
       "\n",
       ".xr-section-item input:enabled + label {\n",
       "  cursor: pointer;\n",
       "  color: var(--xr-font-color2);\n",
       "}\n",
       "\n",
       ".xr-section-item input:enabled + label:hover {\n",
       "  color: var(--xr-font-color0);\n",
       "}\n",
       "\n",
       ".xr-section-summary {\n",
       "  grid-column: 1;\n",
       "  color: var(--xr-font-color2);\n",
       "  font-weight: 500;\n",
       "}\n",
       "\n",
       ".xr-section-summary > span {\n",
       "  display: inline-block;\n",
       "  padding-left: 0.5em;\n",
       "}\n",
       "\n",
       ".xr-section-summary-in:disabled + label {\n",
       "  color: var(--xr-font-color2);\n",
       "}\n",
       "\n",
       ".xr-section-summary-in + label:before {\n",
       "  display: inline-block;\n",
       "  content: '►';\n",
       "  font-size: 11px;\n",
       "  width: 15px;\n",
       "  text-align: center;\n",
       "}\n",
       "\n",
       ".xr-section-summary-in:disabled + label:before {\n",
       "  color: var(--xr-disabled-color);\n",
       "}\n",
       "\n",
       ".xr-section-summary-in:checked + label:before {\n",
       "  content: '▼';\n",
       "}\n",
       "\n",
       ".xr-section-summary-in:checked + label > span {\n",
       "  display: none;\n",
       "}\n",
       "\n",
       ".xr-section-summary,\n",
       ".xr-section-inline-details {\n",
       "  padding-top: 4px;\n",
       "  padding-bottom: 4px;\n",
       "}\n",
       "\n",
       ".xr-section-inline-details {\n",
       "  grid-column: 2 / -1;\n",
       "}\n",
       "\n",
       ".xr-section-details {\n",
       "  display: none;\n",
       "  grid-column: 1 / -1;\n",
       "  margin-bottom: 5px;\n",
       "}\n",
       "\n",
       ".xr-section-summary-in:checked ~ .xr-section-details {\n",
       "  display: contents;\n",
       "}\n",
       "\n",
       ".xr-array-wrap {\n",
       "  grid-column: 1 / -1;\n",
       "  display: grid;\n",
       "  grid-template-columns: 20px auto;\n",
       "}\n",
       "\n",
       ".xr-array-wrap > label {\n",
       "  grid-column: 1;\n",
       "  vertical-align: top;\n",
       "}\n",
       "\n",
       ".xr-preview {\n",
       "  color: var(--xr-font-color3);\n",
       "}\n",
       "\n",
       ".xr-array-preview,\n",
       ".xr-array-data {\n",
       "  padding: 0 5px !important;\n",
       "  grid-column: 2;\n",
       "}\n",
       "\n",
       ".xr-array-data,\n",
       ".xr-array-in:checked ~ .xr-array-preview {\n",
       "  display: none;\n",
       "}\n",
       "\n",
       ".xr-array-in:checked ~ .xr-array-data,\n",
       ".xr-array-preview {\n",
       "  display: inline-block;\n",
       "}\n",
       "\n",
       ".xr-dim-list {\n",
       "  display: inline-block !important;\n",
       "  list-style: none;\n",
       "  padding: 0 !important;\n",
       "  margin: 0;\n",
       "}\n",
       "\n",
       ".xr-dim-list li {\n",
       "  display: inline-block;\n",
       "  padding: 0;\n",
       "  margin: 0;\n",
       "}\n",
       "\n",
       ".xr-dim-list:before {\n",
       "  content: '(';\n",
       "}\n",
       "\n",
       ".xr-dim-list:after {\n",
       "  content: ')';\n",
       "}\n",
       "\n",
       ".xr-dim-list li:not(:last-child):after {\n",
       "  content: ',';\n",
       "  padding-right: 5px;\n",
       "}\n",
       "\n",
       ".xr-has-index {\n",
       "  font-weight: bold;\n",
       "}\n",
       "\n",
       ".xr-var-list,\n",
       ".xr-var-item {\n",
       "  display: contents;\n",
       "}\n",
       "\n",
       ".xr-var-item > div,\n",
       ".xr-var-item label,\n",
       ".xr-var-item > .xr-var-name span {\n",
       "  background-color: var(--xr-background-color-row-even);\n",
       "  margin-bottom: 0;\n",
       "}\n",
       "\n",
       ".xr-var-item > .xr-var-name:hover span {\n",
       "  padding-right: 5px;\n",
       "}\n",
       "\n",
       ".xr-var-list > li:nth-child(odd) > div,\n",
       ".xr-var-list > li:nth-child(odd) > label,\n",
       ".xr-var-list > li:nth-child(odd) > .xr-var-name span {\n",
       "  background-color: var(--xr-background-color-row-odd);\n",
       "}\n",
       "\n",
       ".xr-var-name {\n",
       "  grid-column: 1;\n",
       "}\n",
       "\n",
       ".xr-var-dims {\n",
       "  grid-column: 2;\n",
       "}\n",
       "\n",
       ".xr-var-dtype {\n",
       "  grid-column: 3;\n",
       "  text-align: right;\n",
       "  color: var(--xr-font-color2);\n",
       "}\n",
       "\n",
       ".xr-var-preview {\n",
       "  grid-column: 4;\n",
       "}\n",
       "\n",
       ".xr-var-name,\n",
       ".xr-var-dims,\n",
       ".xr-var-dtype,\n",
       ".xr-preview,\n",
       ".xr-attrs dt {\n",
       "  white-space: nowrap;\n",
       "  overflow: hidden;\n",
       "  text-overflow: ellipsis;\n",
       "  padding-right: 10px;\n",
       "}\n",
       "\n",
       ".xr-var-name:hover,\n",
       ".xr-var-dims:hover,\n",
       ".xr-var-dtype:hover,\n",
       ".xr-attrs dt:hover {\n",
       "  overflow: visible;\n",
       "  width: auto;\n",
       "  z-index: 1;\n",
       "}\n",
       "\n",
       ".xr-var-attrs,\n",
       ".xr-var-data {\n",
       "  display: none;\n",
       "  background-color: var(--xr-background-color) !important;\n",
       "  padding-bottom: 5px !important;\n",
       "}\n",
       "\n",
       ".xr-var-attrs-in:checked ~ .xr-var-attrs,\n",
       ".xr-var-data-in:checked ~ .xr-var-data {\n",
       "  display: block;\n",
       "}\n",
       "\n",
       ".xr-var-data > table {\n",
       "  float: right;\n",
       "}\n",
       "\n",
       ".xr-var-name span,\n",
       ".xr-var-data,\n",
       ".xr-attrs {\n",
       "  padding-left: 25px !important;\n",
       "}\n",
       "\n",
       ".xr-attrs,\n",
       ".xr-var-attrs,\n",
       ".xr-var-data {\n",
       "  grid-column: 1 / -1;\n",
       "}\n",
       "\n",
       "dl.xr-attrs {\n",
       "  padding: 0;\n",
       "  margin: 0;\n",
       "  display: grid;\n",
       "  grid-template-columns: 125px auto;\n",
       "}\n",
       "\n",
       ".xr-attrs dt,\n",
       ".xr-attrs dd {\n",
       "  padding: 0;\n",
       "  margin: 0;\n",
       "  float: left;\n",
       "  padding-right: 10px;\n",
       "  width: auto;\n",
       "}\n",
       "\n",
       ".xr-attrs dt {\n",
       "  font-weight: normal;\n",
       "  grid-column: 1;\n",
       "}\n",
       "\n",
       ".xr-attrs dt:hover span {\n",
       "  display: inline-block;\n",
       "  background: var(--xr-background-color);\n",
       "  padding-right: 10px;\n",
       "}\n",
       "\n",
       ".xr-attrs dd {\n",
       "  grid-column: 2;\n",
       "  white-space: pre-wrap;\n",
       "  word-break: break-all;\n",
       "}\n",
       "\n",
       ".xr-icon-database,\n",
       ".xr-icon-file-text2 {\n",
       "  display: inline-block;\n",
       "  vertical-align: middle;\n",
       "  width: 1em;\n",
       "  height: 1.5em !important;\n",
       "  stroke-width: 0;\n",
       "  stroke: currentColor;\n",
       "  fill: currentColor;\n",
       "}\n",
       "</style><pre class='xr-text-repr-fallback'>&lt;xarray.DataArray &#x27;PRECSC&#x27; ()&gt;\n",
       "array(6.071738e-08, dtype=float32)\n",
       "Coordinates:\n",
       "    time        object 2006-01-01 00:00:00\n",
       "    collection  &lt;U4 &#x27;orig&#x27;</pre><div class='xr-wrap' hidden><div class='xr-header'><div class='xr-obj-type'>xarray.DataArray</div><div class='xr-array-name'>'PRECSC'</div></div><ul class='xr-sections'><li class='xr-section-item'><div class='xr-array-wrap'><input id='section-fac2731b-c4d4-4733-8816-ac7a27305414' class='xr-array-in' type='checkbox' checked><label for='section-fac2731b-c4d4-4733-8816-ac7a27305414' title='Show/hide data repr'><svg class='icon xr-icon-database'><use xlink:href='#icon-database'></use></svg></label><div class='xr-array-preview xr-preview'><span>6.072e-08</span></div><div class='xr-array-data'><pre>array(6.071738e-08, dtype=float32)</pre></div></div></li><li class='xr-section-item'><input id='section-8873a958-d0a0-4581-bbae-e8204328103a' class='xr-section-summary-in' type='checkbox'  checked><label for='section-8873a958-d0a0-4581-bbae-e8204328103a' class='xr-section-summary' >Coordinates: <span>(2)</span></label><div class='xr-section-inline-details'></div><div class='xr-section-details'><ul class='xr-var-list'><li class='xr-var-item'><div class='xr-var-name'><span>time</span></div><div class='xr-var-dims'>()</div><div class='xr-var-dtype'>object</div><div class='xr-var-preview xr-preview'>2006-01-01 00:00:00</div><input id='attrs-7f97c07f-fa4e-44d2-9414-4f9471246bfc' class='xr-var-attrs-in' type='checkbox' ><label for='attrs-7f97c07f-fa4e-44d2-9414-4f9471246bfc' title='Show/Hide attributes'><svg class='icon xr-icon-file-text2'><use xlink:href='#icon-file-text2'></use></svg></label><input id='data-b9899294-a779-403b-a748-c3af0888c5cb' class='xr-var-data-in' type='checkbox'><label for='data-b9899294-a779-403b-a748-c3af0888c5cb' title='Show/Hide data repr'><svg class='icon xr-icon-database'><use xlink:href='#icon-database'></use></svg></label><div class='xr-var-attrs'><dl class='xr-attrs'><dt><span>long_name :</span></dt><dd>time</dd><dt><span>bounds :</span></dt><dd>time_bnds</dd></dl></div><div class='xr-var-data'><pre>array(cftime.DatetimeNoLeap(2006, 1, 1, 0, 0, 0, 0), dtype=object)</pre></div></li><li class='xr-var-item'><div class='xr-var-name'><span>collection</span></div><div class='xr-var-dims'>()</div><div class='xr-var-dtype'>&lt;U4</div><div class='xr-var-preview xr-preview'>&#x27;orig&#x27;</div><input id='attrs-58b3226e-5029-427a-a331-c09ea25b1586' class='xr-var-attrs-in' type='checkbox' disabled><label for='attrs-58b3226e-5029-427a-a331-c09ea25b1586' title='Show/Hide attributes'><svg class='icon xr-icon-file-text2'><use xlink:href='#icon-file-text2'></use></svg></label><input id='data-5ff88783-5ef8-4a7e-b14d-aede18d81b15' class='xr-var-data-in' type='checkbox'><label for='data-5ff88783-5ef8-4a7e-b14d-aede18d81b15' title='Show/Hide data repr'><svg class='icon xr-icon-database'><use xlink:href='#icon-database'></use></svg></label><div class='xr-var-attrs'><dl class='xr-attrs'></dl></div><div class='xr-var-data'><pre>array(&#x27;orig&#x27;, dtype=&#x27;&lt;U4&#x27;)</pre></div></li></ul></div></li><li class='xr-section-item'><input id='section-fdac265e-72b7-4407-96e7-072f854e7173' class='xr-section-summary-in' type='checkbox' disabled ><label for='section-fdac265e-72b7-4407-96e7-072f854e7173' class='xr-section-summary'  title='Expand/collapse section'>Attributes: <span>(0)</span></label><div class='xr-section-inline-details'></div><div class='xr-section-details'><dl class='xr-attrs'></dl></div></li></ul></div></div>"
      ],
      "text/plain": [
       "<xarray.DataArray 'PRECSC' ()>\n",
       "array(6.071738e-08, dtype=float32)\n",
       "Coordinates:\n",
       "    time        object 2006-01-01 00:00:00\n",
       "    collection  <U4 'orig'"
      ]
     },
     "execution_count": 54,
     "metadata": {},
     "output_type": "execute_result"
    }
   ],
   "source": [
    "import numpy as np\n",
    "np.max(p_orig)"
   ]
  },
  {
   "cell_type": "code",
   "execution_count": 209,
   "metadata": {},
   "outputs": [],
   "source": [
    "from skimage.metrics import structural_similarity as ssim\n",
    "import skimage\n",
    "import skimage.io as io\n",
    "#from ldcpy.s_ssim import structural_similarity as ssim_copy\n",
    "\n",
    "t_orig = ts_col[\"TS\"].sel(collection=\"orig\").isel(time=0)\n",
    "t_zfp = ts_col[\"TS\"].sel(collection=\"zfp1.0\").isel(time=0)\n",
    "\n",
    "dm = ldcpy.metrics.DiffMetrics(t_orig, t_zfp, aggregate_dims=['lat', 'lon'])\n",
    "fp = dm.get_diff_metric('ssim_fp')\n",
    "fp_old = dm.get_diff_metric('ssim_fp_old')\n",
    "\n",
    "simg1 = skimage.io.imread('/Users/abaker/alli/compression/SSIM-newtest/ts_ssim1_zfp1.0.png')\n",
    "simg2 = skimage.io.imread('/Users/abaker/alli/compression/SSIM-newtest/ts_ssim2_zfp1.0.png')\n",
    "imm1 = simg1[:, :, :3]\n",
    "imm2 = simg2[:, :, :3]\n",
    "gray1 = skimage.color.rgb2gray(imm1)\n",
    "gray2 = skimage.color.rgb2gray(imm2)\n",
    "\n",
    "sq_simg1 = skimage.io.imread('/Users/abaker/alli/compression/SSIM-newtest/sq_ts_ssim1_zfp1.0.png')\n",
    "sq_simg2 = skimage.io.imread('/Users/abaker/alli/compression/SSIM-newtest/sq_ts_ssim2_zfp1.0.png')\n",
    "sq_imm1 = sq_simg1[:, :, :3]\n",
    "sq_imm2 = sq_simg2[:, :, :3]\n",
    "sq_gray1 = skimage.color.rgb2gray(sq_imm1)\n",
    "sq_gray2 = skimage.color.rgb2gray(sq_imm2)\n",
    "\n",
    "noc_sq_simg1 = skimage.io.imread('/Users/abaker/alli/compression/SSIM-newtest/sq_noc_ts_ssim1_zfp1.0.png')\n",
    "noc_sq_simg2 = skimage.io.imread('/Users/abaker/alli/compression/SSIM-newtest/sq_noc_ts_ssim2_zfp1.0.png')\n",
    "noc_sq_imm1 = noc_sq_simg1[:, :, :3]\n",
    "noc_sq_imm2 = noc_sq_simg2[:, :, :3]\n",
    "noc_sq_gray1 = skimage.color.rgb2gray(noc_sq_imm1)\n",
    "noc_sq_gray2 = skimage.color.rgb2gray(noc_sq_imm2)\n",
    "\n",
    "plain_sq_simg1 = skimage.io.imread('/Users/abaker/alli/compression/SSIM-newtest/plain_ts_ssim1_zfp.png')\n",
    "plain_sq_simg2 = skimage.io.imread('/Users/abaker/alli/compression/SSIM-newtest/plain_ts_ssim2_zfp.png')\n",
    "plain_sq_imm1 = plain_sq_simg1[:, :, :3]\n",
    "plain_sq_imm2 = plain_sq_simg2[:, :, :3]\n",
    "plain_sq_gray1 = skimage.color.rgb2gray(plain_sq_imm1)\n",
    "plain_sq_gray2 = skimage.color.rgb2gray(plain_sq_imm2)\n",
    "\n",
    "\n",
    "\n",
    "#orig\n",
    "so = ssim(imm1, imm2, multichannel=True,gaussian_weights=True,use_sample_covariance=False)\n",
    "so_c = ssim(imm1, imm2, multichannel=True,gaussian_weights=True, k1 = 1e-15, K2 = 1e-15, use_sample_covariance=False)\n",
    "sog = ssim(gray1, gray2, multichannel=False, data_range=1, gaussian_weights=True,use_sample_covariance=False)\n",
    "sog_c = ssim(gray1, gray2, multichannel=False, data_range=1,K1=1e-15, K2 = 1e-15, gaussian_weights=True,use_sample_covariance=False)\n",
    "\n",
    "#so = ssim_copy(gray1, gray2, multichannel=False, data_range=1, K1= 1e-10, K2 = .03, gaussian_weights=True,use_sample_covariance=False)\n",
    "#s = ssim(imm1, imm2, multichannel=True)\n",
    "#s2 = ssim(imm1,imm2, multichannel=True, K1=0.00001, K2 = 0.00001)\n",
    "#s3 = ssim(gray1,gray2, multichannel=False, data_range=1)\n",
    "#s3 = ssim(imm1,imm2, multichannel=True,gaussian_weights=True,use_sample_covariance=False)\n",
    "\n",
    "#sq_so = ssim_copy(sq_gray1, sq_gray2, multichannel=False, data_range=1, K1= .01, K2 = .03)\n",
    "#sq_s = ssim(sq_imm1, sq_imm2, multichannel=True)\n",
    "\n",
    "#noc_sq_so = ssim_copy(noc_sq_gray1, noc_sq_gray2, multichannel=False, data_range=1, K1= .01, K2 = .03)\n",
    "#noc_sq_s = ssim(noc_sq_imm1, noc_sq_imm2, multichannel=True)\n",
    "\n",
    "#plain_sq_so = ssim_copy(plain_sq_gray1, plain_sq_gray2, multichannel=False, data_range=1, K1= .01, K2 = .03)\n",
    "#plain_sq_s = ssim(plain_sq_imm1, plain_sq_imm2, multichannel=True)\n",
    "\n",
    "\n"
   ]
  },
  {
   "cell_type": "code",
   "execution_count": 215,
   "metadata": {},
   "outputs": [
    {
     "data": {
      "text/plain": [
       "array([245, 194, 170], dtype=uint8)"
      ]
     },
     "execution_count": 215,
     "metadata": {},
     "output_type": "execute_result"
    }
   ],
   "source": [
    "imm1[200,200,:]\n"
   ]
  },
  {
   "cell_type": "code",
   "execution_count": 217,
   "metadata": {},
   "outputs": [
    {
     "data": {
      "text/plain": [
       "0.7964984313725489"
      ]
     },
     "execution_count": 217,
     "metadata": {},
     "output_type": "execute_result"
    }
   ],
   "source": [
    "gray1[200,200]"
   ]
  },
  {
   "cell_type": "code",
   "execution_count": 211,
   "metadata": {},
   "outputs": [
    {
     "name": "stdout",
     "output_type": "stream",
     "text": [
      "0.99844309742856\n",
      "0.9367751265262337\n",
      "0.9985087822708693\n",
      "0.9396901050525631\n"
     ]
    }
   ],
   "source": [
    "print(so)\n",
    "print(so_c)\n",
    "print(sog)\n",
    "print(sog_c)\n"
   ]
  },
  {
   "cell_type": "code",
   "execution_count": 207,
   "metadata": {},
   "outputs": [
    {
     "data": {
      "text/plain": [
       "0.9396901050525631"
      ]
     },
     "execution_count": 207,
     "metadata": {},
     "output_type": "execute_result"
    }
   ],
   "source": [
    "sog"
   ]
  },
  {
   "cell_type": "code",
   "execution_count": 203,
   "metadata": {},
   "outputs": [
    {
     "name": "stdout",
     "output_type": "stream",
     "text": [
      "fp-ssim= 0.9957813837204557\n",
      "fp-ssim old= 0.9996698537643849\n",
      "sog =  0.9985087822708693\n",
      "so =  0.99844309742856\n",
      "ldcpy-orig 0.9982826848592401\n",
      "s3= 0.99844309742856\n"
     ]
    }
   ],
   "source": [
    "print('fp-ssim=', fp)\n",
    "print('fp-ssim old=', fp_old)\n",
    "\n",
    "print('sog = ', sog)\n",
    "print('so = ', so)\n",
    "\n",
    "print('ldcpy-orig', s)\n",
    "#print('s2=',s2)\n",
    "print('s3=',s3)\n",
    "#print('sq_so = ', sq_so)\n",
    "#print('sq-ldcpy-orig', sq_s)\n",
    "#print('noc sq_so = ', noc_sq_so)\n",
    "#print('noc sq-ldcpy-orig', noc_sq_s)\n",
    "#print('plain sq_so = ', plain_sq_so)\n",
    "#print('plain sq-ldcpy-orig', plain_sq_s)"
   ]
  },
  {
   "cell_type": "code",
   "execution_count": null,
   "metadata": {},
   "outputs": [],
   "source": [
    "np.shape(imm1)\n",
    "imm1.min()\n",
    "\n"
   ]
  },
  {
   "cell_type": "code",
   "execution_count": null,
   "metadata": {},
   "outputs": [],
   "source": [
    "import torch\n",
    "import torchvision\n",
    "import piq \n",
    "import numpy as np \n",
    "import skimage\n",
    "import skimage.io as io\n",
    "  \n",
    "s1 = skimage.io.imread('/Users/abaker/alli/compression/SSIM-newtest/ts_ssim1_zfp1.0.png')\n",
    "s2 = skimage.io.imread('/Users/abaker/alli/compression/SSIM-newtest/ts_ssim2_zfp1.0.png')\n",
    "im1 = s1[:, :, :3]\n",
    "im2 = s2[:, :, :3]\n",
    "my_tensor1 = torchvision.transforms.ToTensor()(im1)\n",
    "my_tensor2 = torchvision.transforms.ToTensor()(im2)\n",
    "\n",
    "f = piq.ssim(my_tensor1, my_tensor1)\n",
    "ssim_val = f.item()\n",
    "g = piq.gmsd(my_tensor1, my_tensor2) \n",
    "gmsd_val = g.item()\n",
    "h = piq.vif_p(my_tensor1, my_tensor2) \n",
    "vif_val = h.item()"
   ]
  },
  {
   "cell_type": "code",
   "execution_count": null,
   "metadata": {},
   "outputs": [],
   "source": [
    "print('ssim=', ssim_val)\n",
    "print('gmsd=', gmsd_val)\n",
    "print('vif=', vif_val)"
   ]
  },
  {
   "cell_type": "code",
   "execution_count": null,
   "metadata": {},
   "outputs": [],
   "source": [
    "from ldcpy.s_vif import vifp_mscale as vif\n",
    "import skimage\n",
    "import skimage.io as io\n",
    "  \n",
    "s1 = skimage.io.imread('/Users/abaker/alli/compression/SSIM-newtest/ts_ssim1_zfp1.0.png')\n",
    "s2 = skimage.io.imread('/Users/abaker/alli/compression/SSIM-newtest/ts_ssim2_zfp1.0.png')\n",
    "im1 = s1[:, :, :3]\n",
    "im2 = s2[:, :, :3]\n",
    "g1 = skimage.color.rgb2gray(im1)\n",
    "g2 = skimage.color.rgb2gray(im2)\n",
    "vif(g1, g2)"
   ]
  },
  {
   "cell_type": "code",
   "execution_count": null,
   "metadata": {},
   "outputs": [],
   "source": [
    "from ldcpy.s_vif import vifp_mscale as vif\n",
    "import skimage\n",
    "import skimage.io as io\n",
    "  \n",
    "ss1 = skimage.io.imread('/Users/abaker/alli/compression/ssim/study-figs/TS_uncompressed.png')\n",
    "ss2 = skimage.io.imread('/Users/abaker/alli/compression/ssim/study-figs/TS_speck_1.png')\n",
    "sim1 = ss1[:, :, :3]\n",
    "sim2 = ss2[:, :, :3]\n",
    "sg1 = skimage.color.rgb2gray(sim1)\n",
    "sg2 = skimage.color.rgb2gray(sim2)\n",
    "vif(sg1, sg2)"
   ]
  },
  {
   "cell_type": "code",
   "execution_count": null,
   "metadata": {},
   "outputs": [],
   "source": [
    "#rect plot\n",
    "from numpy import inf\n",
    "import copy\n",
    "\n",
    "import matplotlib as mpl\n",
    "import numpy as np\n",
    "import xarray as xr\n",
    "from cartopy import crs as ccrs\n",
    "from cartopy.util import add_cyclic_point\n",
    "from matplotlib import pyplot as plt\n",
    "\n",
    "d1 = t_orig\n",
    "d2 = t_zfp\n",
    "lat1 = d1['lat']\n",
    "lat2 = d2['lat']\n",
    "cy1, lon1 = add_cyclic_point(d1, coord=d1['lon'])\n",
    "cy2, lon2 = add_cyclic_point(d2, coord=d2['lon'])\n",
    "\n",
    "no_inf_d1 = np.nan_to_num(cy1, nan=np.nan)\n",
    "no_inf_d2 = np.nan_to_num(cy2, nan=np.nan)\n",
    "\n",
    "color_min = min(\n",
    "                np.min(d1.where(d1 != -inf)).values.min(),\n",
    "                np.min(d2.where(d2 != -inf)).values.min(),\n",
    "            )\n",
    "color_max = max(\n",
    "                np.max(d1.where(d1 != inf)).values.max(),\n",
    "                np.max(d2.where(d2 != inf)).values.max(),\n",
    "            )\n",
    "\n",
    "fig = plt.figure(dpi=300, figsize=(9, 2.5))\n",
    "    \n",
    "mymap = copy.copy(plt.cm.get_cmap('coolwarm'))\n",
    "mymap.set_under(color='black')\n",
    "mymap.set_over(color='white')\n",
    "mymap.set_bad(alpha=0)\n",
    "\n",
    "#ax1 = plt.subplot(1, 2, 1, projection=ccrs.PlateCarree(central_longitude=0.0))\n",
    "ax1 = plt.subplot(1, 2, 1)\n",
    "ax1.set_facecolor('#39ff14')\n",
    "\n",
    "ax1.pcolormesh(\n",
    "                lon1,\n",
    "                lat1,\n",
    "                no_inf_d1,\n",
    "                #transform=ccrs.PlateCarree(),\n",
    "                cmap=mymap,\n",
    "                vmin=color_min,\n",
    "                vmax=color_max,\n",
    "            )\n",
    "#ax1.set_global()\n",
    "#ax1.coastlines(linewidth=0.5)\n",
    "ax1.axis('off')\n",
    "plt.margins(0, 0)\n",
    "extent1 = ax1.get_window_extent().transformed(fig.dpi_scale_trans.inverted())\n",
    "ax1.imshow\n",
    "plt.savefig('plain_ts_ssim1_zfp', bbox_inches=extent1, transparent=True, pad_inches=0)\n",
    "ax1.axis('on')\n",
    "    \n",
    "#ax2 = plt.subplot(1, 2, 2, projection=ccrs.PlateCarree(central_longitude=0.0))\n",
    "ax2 = plt.subplot(1, 2, 2)\n",
    "ax2.set_facecolor('#39ff14')\n",
    "\n",
    "ax2.pcolormesh(\n",
    "                lon2,\n",
    "                lat2,\n",
    "                no_inf_d2,\n",
    "                #transform=ccrs.PlateCarree(),\n",
    "                cmap=mymap,\n",
    "                vmin=color_min,\n",
    "                vmax=color_max,\n",
    "            )\n",
    "#ax2.set_global()\n",
    "#ax2.coastlines(linewidth=0.5)\n",
    "plt.margins(0, 0)\n",
    "ax2.imshow\n",
    "ax2.axis('off')\n",
    "extent2 = ax2.get_window_extent().transformed(fig.dpi_scale_trans.inverted())\n",
    "plt.savefig('plain_ts_ssim2_zfp', bbox_inches=extent2, transparent=True, pad_inches=0)\n",
    "ax2.axis('on')\n"
   ]
  },
  {
   "cell_type": "markdown",
   "metadata": {},
   "source": [
    "# "
   ]
  },
  {
   "cell_type": "raw",
   "metadata": {},
   "source": []
  },
  {
   "cell_type": "code",
   "execution_count": null,
   "metadata": {},
   "outputs": [],
   "source": [
    "a1_mu = (221.06144731415327 + 176.78527530997684 + 171.20295355827787)/3\n",
    "print(a1_mu)\n",
    "var_a1 = (978.7925222106047 + 633.8275343281653 + 672.9027381838312)/3\n",
    "print(var_a1)\n"
   ]
  },
  {
   "cell_type": "code",
   "execution_count": null,
   "metadata": {},
   "outputs": [],
   "source": [
    "import numpy as np\n",
    "np.zeros(3)"
   ]
  },
  {
   "cell_type": "code",
   "execution_count": null,
   "metadata": {},
   "outputs": [],
   "source": [
    "a1_R = 255\n",
    "K1 = .01\n",
    "K2 = .03\n",
    "        \n",
    "C1 = K1*K1*a1_R*a1_R\n",
    "C2 = K2*K2*a1_R*a1_R\n",
    "print(C1, C2)"
   ]
  },
  {
   "cell_type": "code",
   "execution_count": null,
   "metadata": {},
   "outputs": [],
   "source": [
    "ds = prect_col.isel(time=0)\n",
    "ldcpy.compare_stats(ds, \"PRECT\", \"orig\",\"zfp1e-11\", aggregate_dims=['lat', 'lon'], significant_digits=8)\n"
   ]
  },
  {
   "cell_type": "code",
   "execution_count": null,
   "metadata": {},
   "outputs": [],
   "source": [
    "from skimage.metrics import structural_similarity as ssim\n",
    "import skimage\n",
    "import skimage.io as io\n",
    "from ldcpy.s_ssim import structural_similarity as ssim_copy\n",
    "\n",
    "p_orig = prect_col[\"PRECT\"].sel(collection=\"orig\").isel(time=0)\n",
    "p_zfp = prect_col[\"PRECT\"].sel(collection=\"zfp1e-9\").isel(time=0)\n",
    "\n",
    "dm = ldcpy.metrics.DiffMetrics(p_orig, p_zfp, aggregate_dims=['lat', 'lon'])\n",
    "fp = dm.get_diff_metric('ssim_fp')\n",
    "fp_old = dm.get_diff_metric('ssim_fp_old')\n",
    "\n",
    "simg1 = skimage.io.imread('/Users/abaker/alli/compression/SSIM-newtest/prect_ssim1_zfp1e-9.png')\n",
    "simg2 = skimage.io.imread('/Users/abaker/alli/compression/SSIM-newtest/prect_ssim2_zfp1e-9.png')\n",
    "imm1 = simg1[:, :, :3]\n",
    "imm2 = simg2[:, :, :3]\n",
    "gray1 = skimage.color.rgb2gray(imm1)\n",
    "gray2 = skimage.color.rgb2gray(imm2)\n",
    " \n",
    "#orig\n",
    "#so = ssim_copy(gray1, gray2, multichannel=False, data_range=1, K1= .01, K2 = .03)\n",
    "#so = ssim_copy(gray1, gray2, multichannel=False, data_range=1, K1= .01, K2 = .03,gaussian_weights=True,use_sample_covariance=False)\n",
    "\n",
    "#origi\n",
    "s = ssim(imm1, imm2, multichannel=True)\n",
    "s2 = ssim(imm1,imm2, multichannel=True, gaussian_weights=True,use_sample_covariance=False)\n",
    "#s3 = ssim(imm1,imm2, multichannel=True,gaussian_weights=True,use_sample_covariance=False)\n"
   ]
  },
  {
   "cell_type": "code",
   "execution_count": null,
   "metadata": {},
   "outputs": [],
   "source": [
    "#print('so', so)\n",
    "print('ldcpy-orig', s)\n",
    "print('s2=',s2)\n",
    "#print('s3=',s3)\n",
    "print('fp-ssim=', fp)\n",
    "print('fp-ssim old=', fp_old)"
   ]
  },
  {
   "cell_type": "code",
   "execution_count": null,
   "metadata": {},
   "outputs": [],
   "source": [
    "from sklearn.preprocessing import minmax_scale\n",
    "p_orig = prect_col[\"PRECT\"].sel(collection=\"orig\").isel(time=0).compute()\n",
    "p_zfp = prect_col[\"PRECT\"].sel(collection=\"zfp1e-9\").isel(time=0).compute()\n",
    "po = p_orig.data\n",
    "pz = p_zfp.data\n",
    "sc_po = minmax_scale(po, feature_range=(0, 1))\n",
    "sc_pz = minmax_scale(pz, feature_range=(0, 1))"
   ]
  },
  {
   "cell_type": "code",
   "execution_count": null,
   "metadata": {},
   "outputs": [],
   "source": [
    "print(po.max())\n",
    "print(po.min())\n",
    "print(po.mean())\n",
    "print(po.std())"
   ]
  },
  {
   "cell_type": "code",
   "execution_count": null,
   "metadata": {},
   "outputs": [],
   "source": [
    "print(sc_po.max())\n",
    "print(sc_po.min())\n",
    "print(sc_po.mean())\n",
    "print(sc_po.std())"
   ]
  },
  {
   "cell_type": "code",
   "execution_count": null,
   "metadata": {},
   "outputs": [],
   "source": [
    "ma = sc_po[sc_po != 0]\n",
    "ma.min()"
   ]
  },
  {
   "cell_type": "code",
   "execution_count": null,
   "metadata": {},
   "outputs": [],
   "source": [
    "ma1 = sc_po[sc_po != 1]\n",
    "ma1.max()"
   ]
  },
  {
   "cell_type": "code",
   "execution_count": null,
   "metadata": {},
   "outputs": [],
   "source": [
    "imm1.std()/255\n"
   ]
  },
  {
   "cell_type": "code",
   "execution_count": 5,
   "metadata": {},
   "outputs": [
    {
     "ename": "NameError",
     "evalue": "name 'p_orig' is not defined",
     "output_type": "error",
     "traceback": [
      "\u001b[0;31m---------------------------------------------------------------------------\u001b[0m",
      "\u001b[0;31mNameError\u001b[0m                                 Traceback (most recent call last)",
      "\u001b[0;32m<ipython-input-5-9279c0665203>\u001b[0m in \u001b[0;36m<module>\u001b[0;34m\u001b[0m\n\u001b[0;32m----> 1\u001b[0;31m \u001b[0mdm\u001b[0m \u001b[0;34m=\u001b[0m \u001b[0mldcpy\u001b[0m\u001b[0;34m.\u001b[0m\u001b[0mmetrics\u001b[0m\u001b[0;34m.\u001b[0m\u001b[0mDiffMetrics\u001b[0m\u001b[0;34m(\u001b[0m\u001b[0mp_orig\u001b[0m\u001b[0;34m,\u001b[0m \u001b[0mp_zfp\u001b[0m\u001b[0;34m,\u001b[0m \u001b[0maggregate_dims\u001b[0m\u001b[0;34m=\u001b[0m\u001b[0;34m[\u001b[0m\u001b[0;34m'lat'\u001b[0m\u001b[0;34m,\u001b[0m \u001b[0;34m'lon'\u001b[0m\u001b[0;34m]\u001b[0m\u001b[0;34m)\u001b[0m\u001b[0;34m\u001b[0m\u001b[0;34m\u001b[0m\u001b[0m\n\u001b[0m\u001b[1;32m      2\u001b[0m \u001b[0mfp\u001b[0m \u001b[0;34m=\u001b[0m \u001b[0mdm\u001b[0m\u001b[0;34m.\u001b[0m\u001b[0mget_diff_metric\u001b[0m\u001b[0;34m(\u001b[0m\u001b[0;34m'ssim_fp2'\u001b[0m\u001b[0;34m)\u001b[0m\u001b[0;34m\u001b[0m\u001b[0;34m\u001b[0m\u001b[0m\n",
      "\u001b[0;31mNameError\u001b[0m: name 'p_orig' is not defined"
     ]
    }
   ],
   "source": [
    "dm = ldcpy.metrics.DiffMetrics(p_orig, p_zfp, aggregate_dims=['lat', 'lon'])\n",
    "fp = dm.get_diff_metric('ssim_fp2')\n"
   ]
  },
  {
   "cell_type": "code",
   "execution_count": 134,
   "metadata": {},
   "outputs": [],
   "source": [
    "import numpy as np\n",
    "mydata = np.ones([1, 6]) * np.arange(6)\n",
    "mydata2 = np.ones([1, 6]) * np.random.rand(6) *10\n"
   ]
  },
  {
   "cell_type": "code",
   "execution_count": 135,
   "metadata": {},
   "outputs": [
    {
     "data": {
      "text/plain": [
       "array([[0., 1., 2., 3., 4., 5.]])"
      ]
     },
     "execution_count": 135,
     "metadata": {},
     "output_type": "execute_result"
    }
   ],
   "source": [
    "mydata"
   ]
  },
  {
   "cell_type": "code",
   "execution_count": 136,
   "metadata": {},
   "outputs": [
    {
     "data": {
      "text/plain": [
       "array([[6.96356532, 1.66942373, 9.76242432, 1.71514579, 2.44746398,\n",
       "        3.53284969]])"
      ]
     },
     "execution_count": 136,
     "metadata": {},
     "output_type": "execute_result"
    }
   ],
   "source": [
    "mydata2"
   ]
  },
  {
   "cell_type": "code",
   "execution_count": 139,
   "metadata": {},
   "outputs": [],
   "source": [
    "from sklearn.preprocessing import MinMaxScaler\n",
    "scaler = MinMaxScaler()\n",
    "sc_data = scaler.fit_transform(mydata)\n",
    "#sc_data2 = scaler.fit_transform(mydata2)"
   ]
  },
  {
   "cell_type": "code",
   "execution_count": 2,
   "metadata": {},
   "outputs": [
    {
     "name": "stdout",
     "output_type": "stream",
     "text": [
      "bg_2\n",
      "bg_3\n",
      "bg_4\n",
      "bg_5\n",
      "bg_6\n",
      "bg_7\n"
     ]
    }
   ],
   "source": [
    "for i in range(2,8):\n",
    "    bgdir =\"bg_\" +str(i)\n",
    "\n",
    "    print(bgdir)"
   ]
  },
  {
   "cell_type": "code",
   "execution_count": 4,
   "metadata": {},
   "outputs": [],
   "source": [
    "import os\n",
    "curdir = os.getcwd()"
   ]
  },
  {
   "cell_type": "code",
   "execution_count": 6,
   "metadata": {},
   "outputs": [],
   "source": [
    "os.chdir(\"collections/\")"
   ]
  },
  {
   "cell_type": "code",
   "execution_count": 8,
   "metadata": {},
   "outputs": [
    {
     "data": {
      "text/plain": [
       "'/Users/abaker/alli/code-repo/ldcpy/docs/source/notebooks/collections'"
      ]
     },
     "execution_count": 8,
     "metadata": {},
     "output_type": "execute_result"
    }
   ],
   "source": [
    "os.getcwd()"
   ]
  },
  {
   "cell_type": "code",
   "execution_count": 9,
   "metadata": {},
   "outputs": [],
   "source": [
    "os.chdir(curdir)"
   ]
  },
  {
   "cell_type": "code",
   "execution_count": 10,
   "metadata": {},
   "outputs": [
    {
     "data": {
      "text/plain": [
       "'/Users/abaker/alli/code-repo/ldcpy/docs/source/notebooks'"
      ]
     },
     "execution_count": 10,
     "metadata": {},
     "output_type": "execute_result"
    }
   ],
   "source": [
    "os.getcwd()"
   ]
  },
  {
   "cell_type": "code",
   "execution_count": 16,
   "metadata": {},
   "outputs": [],
   "source": [
    "filename = \"b.e11.BRCP85C5CNBDRD.f09_g16.031.cam.h0.CCN3.200601-201012.nc\"\n",
    "loc1 = filename.find('.h')\n"
   ]
  },
  {
   "cell_type": "code",
   "execution_count": 23,
   "metadata": {},
   "outputs": [
    {
     "data": {
      "text/plain": [
       "39"
      ]
     },
     "execution_count": 23,
     "metadata": {},
     "output_type": "execute_result"
    }
   ],
   "source": [
    "loc2 = filename.find('.', loc1+1)\n",
    "loc2"
   ]
  },
  {
   "cell_type": "code",
   "execution_count": 22,
   "metadata": {},
   "outputs": [
    {
     "data": {
      "text/plain": [
       "44"
      ]
     },
     "execution_count": 22,
     "metadata": {},
     "output_type": "execute_result"
    }
   ],
   "source": [
    "loc3 = filename.find('.', loc2+1)\n",
    "loc3"
   ]
  },
  {
   "cell_type": "code",
   "execution_count": 25,
   "metadata": {},
   "outputs": [
    {
     "data": {
      "text/plain": [
       "'CCN3'"
      ]
     },
     "execution_count": 25,
     "metadata": {},
     "output_type": "execute_result"
    }
   ],
   "source": [
    "filename[loc2+1:loc3]"
   ]
  },
  {
   "cell_type": "code",
   "execution_count": 1,
   "metadata": {},
   "outputs": [],
   "source": [
    "from netCDF4 import Dataset\n",
    "fn = \"../../../data/cam-fv/orig.TS.100days.nc\"\n",
    "fid = Dataset(fn, \"r\")"
   ]
  },
  {
   "cell_type": "code",
   "execution_count": 2,
   "metadata": {},
   "outputs": [],
   "source": [
    "attrs = fid.ncattrs()"
   ]
  },
  {
   "cell_type": "code",
   "execution_count": 12,
   "metadata": {},
   "outputs": [],
   "source": [
    "variables = fid.variables"
   ]
  },
  {
   "cell_type": "code",
   "execution_count": 13,
   "metadata": {},
   "outputs": [],
   "source": [
    "dims = fid.dimensions"
   ]
  },
  {
   "cell_type": "code",
   "execution_count": 14,
   "metadata": {},
   "outputs": [
    {
     "data": {
      "text/plain": [
       "100"
      ]
     },
     "execution_count": 14,
     "metadata": {},
     "output_type": "execute_result"
    }
   ],
   "source": [
    "dims[\"time\"].size"
   ]
  },
  {
   "cell_type": "code",
   "execution_count": 20,
   "metadata": {},
   "outputs": [
    {
     "data": {
      "text/plain": [
       "dtype('float32')"
      ]
     },
     "execution_count": 20,
     "metadata": {},
     "output_type": "execute_result"
    }
   ],
   "source": [
    "variables[\"TS\"].datatype"
   ]
  },
  {
   "cell_type": "code",
   "execution_count": 16,
   "metadata": {},
   "outputs": [
    {
     "data": {
      "text/plain": [
       "['units', 'long_name', 'cell_methods']"
      ]
     },
     "execution_count": 16,
     "metadata": {},
     "output_type": "execute_result"
    }
   ],
   "source": [
    "variables[\"TS\"].ncattrs()\n"
   ]
  },
  {
   "cell_type": "code",
   "execution_count": 19,
   "metadata": {},
   "outputs": [
    {
     "name": "stdout",
     "output_type": "stream",
     "text": [
      "P0\n",
      "TS\n",
      "gw\n",
      "hyai\n",
      "hyam\n",
      "hybi\n",
      "hybm\n",
      "ilev\n",
      "lat\n",
      "lev\n",
      "lon\n",
      "time\n",
      "time_bnds\n"
     ]
    }
   ],
   "source": [
    "for k in variables:\n",
    "    print(k)"
   ]
  },
  {
   "cell_type": "code",
   "execution_count": 21,
   "metadata": {},
   "outputs": [],
   "source": [
    "mvarsTimeInvarient =  [\"lev\", \"hyam\", \"hybm\", \"ilev\", \"hyai\", \"hybi\", \"P0\", \"lat\",\n",
    "                  \"lon\", \"slat\", \"slon\", \"w_stag\", \"ntrm\", \"ntrn\", \"ntrk\",\n",
    "                  \"ndbase\", \"nsbase\", \"nbdate\", \"nbsec\", \"mdt\", \"nlon\",\n",
    "                  \"wnummax\", \"gw\"]"
   ]
  },
  {
   "cell_type": "code",
   "execution_count": 23,
   "metadata": {},
   "outputs": [
    {
     "name": "stdout",
     "output_type": "stream",
     "text": [
      "P0\n",
      "<class 'netCDF4._netCDF4.Variable'>\n",
      "float64 P0()\n",
      "    long_name: reference pressure\n",
      "    units: Pa\n",
      "unlimited dimensions: \n",
      "current shape = ()\n",
      "filling on, default _FillValue of 9.969209968386869e+36 used\n",
      "TS\n",
      "<class 'netCDF4._netCDF4.Variable'>\n",
      "float32 TS(time, lat, lon)\n",
      "    units: K\n",
      "    long_name: Surface temperature (radiative)\n",
      "    cell_methods: time: mean\n",
      "unlimited dimensions: time\n",
      "current shape = (100, 192, 288)\n",
      "filling on, default _FillValue of 9.969209968386869e+36 used\n",
      "gw\n",
      "<class 'netCDF4._netCDF4.Variable'>\n",
      "float64 gw(lat)\n",
      "    long_name: gauss weights\n",
      "unlimited dimensions: \n",
      "current shape = (192,)\n",
      "filling on, default _FillValue of 9.969209968386869e+36 used\n",
      "hyai\n",
      "<class 'netCDF4._netCDF4.Variable'>\n",
      "float64 hyai(ilev)\n",
      "    long_name: hybrid A coefficient at layer interfaces\n",
      "unlimited dimensions: \n",
      "current shape = (31,)\n",
      "filling on, default _FillValue of 9.969209968386869e+36 used\n",
      "hyam\n",
      "<class 'netCDF4._netCDF4.Variable'>\n",
      "float64 hyam(lev)\n",
      "    long_name: hybrid A coefficient at layer midpoints\n",
      "unlimited dimensions: \n",
      "current shape = (30,)\n",
      "filling on, default _FillValue of 9.969209968386869e+36 used\n",
      "hybi\n",
      "<class 'netCDF4._netCDF4.Variable'>\n",
      "float64 hybi(ilev)\n",
      "    long_name: hybrid B coefficient at layer interfaces\n",
      "unlimited dimensions: \n",
      "current shape = (31,)\n",
      "filling on, default _FillValue of 9.969209968386869e+36 used\n",
      "hybm\n",
      "<class 'netCDF4._netCDF4.Variable'>\n",
      "float64 hybm(lev)\n",
      "    long_name: hybrid B coefficient at layer midpoints\n",
      "unlimited dimensions: \n",
      "current shape = (30,)\n",
      "filling on, default _FillValue of 9.969209968386869e+36 used\n",
      "ilev\n",
      "<class 'netCDF4._netCDF4.Variable'>\n",
      "float64 ilev(ilev)\n",
      "    long_name: hybrid level at interfaces (1000*(A+B))\n",
      "    units: level\n",
      "    positive: down\n",
      "    standard_name: atmosphere_hybrid_sigma_pressure_coordinate\n",
      "    formula_terms: a: hyai b: hybi p0: P0 ps: PS\n",
      "unlimited dimensions: \n",
      "current shape = (31,)\n",
      "filling on, default _FillValue of 9.969209968386869e+36 used\n",
      "lat\n",
      "<class 'netCDF4._netCDF4.Variable'>\n",
      "float64 lat(lat)\n",
      "    long_name: latitude\n",
      "    units: degrees_north\n",
      "unlimited dimensions: \n",
      "current shape = (192,)\n",
      "filling on, default _FillValue of 9.969209968386869e+36 used\n",
      "lev\n",
      "<class 'netCDF4._netCDF4.Variable'>\n",
      "float64 lev(lev)\n",
      "    long_name: hybrid level at midpoints (1000*(A+B))\n",
      "    units: level\n",
      "    positive: down\n",
      "    standard_name: atmosphere_hybrid_sigma_pressure_coordinate\n",
      "    formula_terms: a: hyam b: hybm p0: P0 ps: PS\n",
      "unlimited dimensions: \n",
      "current shape = (30,)\n",
      "filling on, default _FillValue of 9.969209968386869e+36 used\n",
      "lon\n",
      "<class 'netCDF4._netCDF4.Variable'>\n",
      "float64 lon(lon)\n",
      "    long_name: longitude\n",
      "    units: degrees_east\n",
      "unlimited dimensions: \n",
      "current shape = (288,)\n",
      "filling on, default _FillValue of 9.969209968386869e+36 used\n",
      "time\n",
      "<class 'netCDF4._netCDF4.Variable'>\n",
      "float64 time(time)\n",
      "    long_name: time\n",
      "    units: days since 1920-01-01 00:00:00\n",
      "    calendar: noleap\n",
      "    bounds: time_bnds\n",
      "unlimited dimensions: time\n",
      "current shape = (100,)\n",
      "filling on, default _FillValue of 9.969209968386869e+36 used\n",
      "time_bnds\n",
      "<class 'netCDF4._netCDF4.Variable'>\n",
      "float64 time_bnds(time, nbnd)\n",
      "    long_name: time interval endpoints\n",
      "unlimited dimensions: time\n",
      "current shape = (100, 2)\n",
      "filling on, default _FillValue of 9.969209968386869e+36 used\n"
     ]
    }
   ],
   "source": [
    "for mk,mv in variables.items():\n",
    "    print(mk)\n",
    "    print(mv)"
   ]
  },
  {
   "cell_type": "code",
   "execution_count": 58,
   "metadata": {},
   "outputs": [
    {
     "name": "stdout",
     "output_type": "stream",
     "text": [
      "<class 'netCDF4._netCDF4.Variable'>\n",
      "float64 lat(lat)\n",
      "    long_name: latitude\n",
      "    units: degrees_north\n",
      "unlimited dimensions: \n",
      "current shape = (192,)\n",
      "filling on, default _FillValue of 9.969209968386869e+36 used\n",
      "<class 'netCDF4._netCDF4.Variable'>\n",
      "float64 gw(lat)\n",
      "    long_name: gauss weights\n",
      "unlimited dimensions: \n",
      "current shape = (192,)\n",
      "filling on, default _FillValue of 9.969209968386869e+36 used\n"
     ]
    }
   ],
   "source": [
    "import numpy as np\n",
    "c = variables[\"lat\"]\n",
    "d = variables[\"gw\"]\n",
    "print(c)\n",
    "#np.asarray(c)\n",
    "print(d)"
   ]
  },
  {
   "cell_type": "code",
   "execution_count": 63,
   "metadata": {},
   "outputs": [],
   "source": [
    "variables[\"lat\"] = d[:]"
   ]
  },
  {
   "cell_type": "code",
   "execution_count": 65,
   "metadata": {},
   "outputs": [
    {
     "data": {
      "text/plain": [
       "masked_array(data=[3.38174282e-05, 2.70525702e-04, 5.40978217e-04,\n",
       "                   8.11284379e-04, 1.08137106e-03, 1.35116519e-03,\n",
       "                   1.62059379e-03, 1.88958396e-03, 2.15806293e-03,\n",
       "                   2.42595807e-03, 2.69319690e-03, 2.95970713e-03,\n",
       "                   3.22541665e-03, 3.49025359e-03, 3.75414629e-03,\n",
       "                   4.01702337e-03, 4.27881370e-03, 4.53944646e-03,\n",
       "                   4.79885114e-03, 5.05695757e-03, 5.31369591e-03,\n",
       "                   5.56899671e-03, 5.82279091e-03, 6.07500984e-03,\n",
       "                   6.32558526e-03, 6.57444940e-03, 6.82153492e-03,\n",
       "                   7.06677497e-03, 7.31010322e-03, 7.55145382e-03,\n",
       "                   7.79076150e-03, 8.02796150e-03, 8.26298966e-03,\n",
       "                   8.49578240e-03, 8.72627673e-03, 8.95441029e-03,\n",
       "                   9.18012138e-03, 9.40334892e-03, 9.62403253e-03,\n",
       "                   9.84211251e-03, 1.00575298e-02, 1.02702263e-02,\n",
       "                   1.04801442e-02, 1.06872270e-02, 1.08914184e-02,\n",
       "                   1.10926634e-02, 1.12909074e-02, 1.14860968e-02,\n",
       "                   1.16781788e-02, 1.18671015e-02, 1.20528137e-02,\n",
       "                   1.22352652e-02, 1.24144067e-02, 1.25901896e-02,\n",
       "                   1.27625664e-02, 1.29314905e-02, 1.30969162e-02,\n",
       "                   1.32587987e-02, 1.34170942e-02, 1.35717600e-02,\n",
       "                   1.37227541e-02, 1.38700357e-02, 1.40135650e-02,\n",
       "                   1.41533032e-02, 1.42892124e-02, 1.44212558e-02,\n",
       "                   1.45493979e-02, 1.46736037e-02, 1.47938399e-02,\n",
       "                   1.49100738e-02, 1.50222740e-02, 1.51304102e-02,\n",
       "                   1.52344531e-02, 1.53343745e-02, 1.54301474e-02,\n",
       "                   1.55217460e-02, 1.56091454e-02, 1.56923219e-02,\n",
       "                   1.57712531e-02, 1.58459177e-02, 1.59162954e-02,\n",
       "                   1.59823672e-02, 1.60441152e-02, 1.61015226e-02,\n",
       "                   1.61545741e-02, 1.62032552e-02, 1.62475528e-02,\n",
       "                   1.62874548e-02, 1.63229505e-02, 1.63540303e-02,\n",
       "                   1.63806857e-02, 1.64029096e-02, 1.64206959e-02,\n",
       "                   1.64340399e-02, 1.64429378e-02, 1.64473874e-02,\n",
       "                   1.64473874e-02, 1.64429378e-02, 1.64340399e-02,\n",
       "                   1.64206959e-02, 1.64029096e-02, 1.63806857e-02,\n",
       "                   1.63540303e-02, 1.63229505e-02, 1.62874548e-02,\n",
       "                   1.62475528e-02, 1.62032552e-02, 1.61545741e-02,\n",
       "                   1.61015226e-02, 1.60441152e-02, 1.59823672e-02,\n",
       "                   1.59162954e-02, 1.58459177e-02, 1.57712531e-02,\n",
       "                   1.56923219e-02, 1.56091454e-02, 1.55217460e-02,\n",
       "                   1.54301474e-02, 1.53343745e-02, 1.52344531e-02,\n",
       "                   1.51304102e-02, 1.50222740e-02, 1.49100738e-02,\n",
       "                   1.47938399e-02, 1.46736037e-02, 1.45493979e-02,\n",
       "                   1.44212558e-02, 1.42892124e-02, 1.41533032e-02,\n",
       "                   1.40135650e-02, 1.38700357e-02, 1.37227541e-02,\n",
       "                   1.35717600e-02, 1.34170942e-02, 1.32587987e-02,\n",
       "                   1.30969162e-02, 1.29314905e-02, 1.27625664e-02,\n",
       "                   1.25901896e-02, 1.24144067e-02, 1.22352652e-02,\n",
       "                   1.20528137e-02, 1.18671015e-02, 1.16781788e-02,\n",
       "                   1.14860968e-02, 1.12909074e-02, 1.10926634e-02,\n",
       "                   1.08914184e-02, 1.06872270e-02, 1.04801442e-02,\n",
       "                   1.02702263e-02, 1.00575298e-02, 9.84211251e-03,\n",
       "                   9.62403253e-03, 9.40334892e-03, 9.18012138e-03,\n",
       "                   8.95441029e-03, 8.72627673e-03, 8.49578240e-03,\n",
       "                   8.26298966e-03, 8.02796150e-03, 7.79076150e-03,\n",
       "                   7.55145382e-03, 7.31010322e-03, 7.06677497e-03,\n",
       "                   6.82153492e-03, 6.57444940e-03, 6.32558526e-03,\n",
       "                   6.07500984e-03, 5.82279091e-03, 5.56899671e-03,\n",
       "                   5.31369591e-03, 5.05695757e-03, 4.79885114e-03,\n",
       "                   4.53944646e-03, 4.27881370e-03, 4.01702337e-03,\n",
       "                   3.75414629e-03, 3.49025359e-03, 3.22541665e-03,\n",
       "                   2.95970713e-03, 2.69319690e-03, 2.42595807e-03,\n",
       "                   2.15806293e-03, 1.88958396e-03, 1.62059379e-03,\n",
       "                   1.35116519e-03, 1.08137106e-03, 8.11284379e-04,\n",
       "                   5.40978217e-04, 2.70525702e-04, 3.38174282e-05],\n",
       "             mask=False,\n",
       "       fill_value=1e+20)"
      ]
     },
     "execution_count": 65,
     "metadata": {},
     "output_type": "execute_result"
    }
   ],
   "source": [
    "variables[\"lat\"]"
   ]
  },
  {
   "cell_type": "code",
   "execution_count": 79,
   "metadata": {},
   "outputs": [
    {
     "data": {
      "text/plain": [
       "'CF-1.0'"
      ]
     },
     "execution_count": 79,
     "metadata": {},
     "output_type": "execute_result"
    }
   ],
   "source": [
    "fid.getncattr(p)"
   ]
  },
  {
   "cell_type": "code",
   "execution_count": 80,
   "metadata": {},
   "outputs": [
    {
     "name": "stdout",
     "output_type": "stream",
     "text": [
      "Conventions CF-1.0\n",
      "source CAM\n",
      "case b.e11.B20TRC5CNBDRD.f09_g16.030\n",
      "title UNSET\n",
      "logname mai\n",
      "host ys0110\n",
      "Version $Name$\n",
      "revision_Id $Id$\n",
      "initial_file b.e11.B20TRC5CNBDRD.f09_g16.001.cam.i.1920-01-01-00000.nc\n",
      "topography_file /glade/p/cesmdata/cseg/inputdata/atm/cam/topo/USGS-gtopo30_0.9x1.25_remap_c051027.nc\n",
      "history Mon Jul 13 16:26:09 2020: ncks -4 -L 2 orig.TS.100days.nc orig.TS.100days.nc\n",
      "Wed Oct 16 12:10:39 2019: ncks -d time,0,99,1 -v TS,gw,lat,lon,lev b.e11.B20TRC5CNBDRD.f09_g16.030.cam.h1.TS.19200101-20051231.nc orig.TS.100days.nc\n",
      "Wed Oct 29 04:21:35 2014: ncks -F -d time,1,31390 b.e11.B20TRC5CNBDRD.f09_g16.030.cam.h1.TS.19200101-20051231.nc S_b.e11.B20TRC5CNBDRD.f09_g16.030.cam.h1.TS.19200101-20051231.nc\n",
      "NCO netCDF Operators version 4.7.9 (Homepage = http://nco.sf.net, Code = http://github.com/nco/nco)\n"
     ]
    }
   ],
   "source": [
    "for n in attrs:\n",
    "    print(n, fid.getncattr(n))"
   ]
  },
  {
   "cell_type": "code",
   "execution_count": 87,
   "metadata": {},
   "outputs": [
    {
     "ename": "KeyError",
     "evalue": "0",
     "output_type": "error",
     "traceback": [
      "\u001b[0;31m---------------------------------------------------------------------------\u001b[0m",
      "\u001b[0;31mKeyError\u001b[0m                                  Traceback (most recent call last)",
      "\u001b[0;32m/var/folders/gs/776cj4k161bg61w8ks3r7_jsz4wwsk/T/ipykernel_89286/952250.py\u001b[0m in \u001b[0;36m<module>\u001b[0;34m\u001b[0m\n\u001b[0;32m----> 1\u001b[0;31m \u001b[0mvars\u001b[0m\u001b[0;34m[\u001b[0m\u001b[0;36m0\u001b[0m\u001b[0;34m]\u001b[0m\u001b[0;34m\u001b[0m\u001b[0;34m\u001b[0m\u001b[0m\n\u001b[0m",
      "\u001b[0;31mKeyError\u001b[0m: 0"
     ]
    }
   ],
   "source": [
    "vars[0]"
   ]
  },
  {
   "cell_type": "code",
   "execution_count": 96,
   "metadata": {},
   "outputs": [],
   "source": [
    "k = vars[\"TS\"][:]"
   ]
  },
  {
   "cell_type": "code",
   "execution_count": 100,
   "metadata": {},
   "outputs": [],
   "source": [
    "cfile = '/glade/work/abaker/mygit/PyCompress/sz2_1_12.config'\n",
    "dbfile = cfile.encode('utf-8')"
   ]
  },
  {
   "cell_type": "code",
   "execution_count": 106,
   "metadata": {},
   "outputs": [
    {
     "data": {
      "text/plain": [
       "'/glade/work/abaker/mygit/PyCompress/sz2_1_12.config'"
      ]
     },
     "execution_count": 106,
     "metadata": {},
     "output_type": "execute_result"
    }
   ],
   "source": [
    "cfile"
   ]
  },
  {
   "cell_type": "code",
   "execution_count": 107,
   "metadata": {},
   "outputs": [
    {
     "name": "stdout",
     "output_type": "stream",
     "text": [
      "0.1\n",
      "0.05\n",
      "0.01\n",
      "0.005\n",
      "0.001\n",
      "0.0005\n",
      "0.0001\n",
      "5e-05\n",
      "1e-05\n"
     ]
    }
   ],
   "source": [
    "rel_tol = [.1, .05, .01, .005, .001, .0005, .0001, .00005, .00001]\n",
    "for i in rel_tol:\n",
    "    print(i)"
   ]
  },
  {
   "cell_type": "code",
   "execution_count": 112,
   "metadata": {},
   "outputs": [
    {
     "name": "stdout",
     "output_type": "stream",
     "text": [
      "b.e11.BRCP85C5CNBDRD.f09_g16.031.cam.h0.CCN3.200601-201012.nc\n"
     ]
    },
    {
     "data": {
      "text/plain": [
       "-1"
      ]
     },
     "execution_count": 112,
     "metadata": {},
     "output_type": "execute_result"
    }
   ],
   "source": [
    "print(filename)\n",
    "loc = filename.find('.h1')\n",
    "loc"
   ]
  },
  {
   "cell_type": "code",
   "execution_count": null,
   "metadata": {},
   "outputs": [],
   "source": []
  }
 ],
 "metadata": {
  "kernelspec": {
   "display_name": "Python 3 (ipykernel)",
   "language": "python",
   "name": "python3"
  },
  "language_info": {
   "codemirror_mode": {
    "name": "ipython",
    "version": 3
   },
   "file_extension": ".py",
   "mimetype": "text/x-python",
   "name": "python",
   "nbconvert_exporter": "python",
   "pygments_lexer": "ipython3",
   "version": "3.9.9"
  }
 },
 "nbformat": 4,
 "nbformat_minor": 4
}
